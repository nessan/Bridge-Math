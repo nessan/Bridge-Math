{
 "cells": [
  {
   "cell_type": "markdown",
   "metadata": {},
   "source": [
    "# Eight Ever, Nine Never"
   ]
  },
  {
   "cell_type": "markdown",
   "metadata": {
    "tags": [
     "dontExport"
    ]
   },
   "source": [
    "### Setting Things Up for Python ..."
   ]
  },
  {
   "cell_type": "markdown",
   "metadata": {},
   "source": [
    "This notebook uses _Python_ so we first set up a few things for that environment (note that this section of the notebook is tagged to not appear when we export the document to HTML or other formats):"
   ]
  },
  {
   "cell_type": "code",
   "execution_count": 12,
   "metadata": {
    "tags": [
     "dontExport"
    ]
   },
   "outputs": [],
   "source": [
    "import numpy as np\n",
    "import pandas as pd\n",
    "import matplotlib.pyplot as plt\n",
    "import seaborn\n",
    "import scipy.special\n",
    "import scipy.stats as stats\n",
    "\n",
    "%matplotlib inline"
   ]
  },
  {
   "cell_type": "markdown",
   "metadata": {
    "tags": [
     "dontExport"
    ]
   },
   "source": [
    "We also define a little function that pretty prints large numbers using commas to make them more readable so e.g. 8753912376 becomes 8,753,912,376 and small numbers as percentages ao 0.723 becomes 72.3%. "
   ]
  },
  {
   "cell_type": "code",
   "execution_count": 13,
   "metadata": {
    "tags": [
     "dontExport"
    ]
   },
   "outputs": [],
   "source": [
    "def comma_print(x):   print(f'{x:,}')\n",
    "def percent_print(x): print(f'{x:.1%}') \n",
    "def pretty_print(x):  percent_print(x) if 0 <= x <= 1 else comma_print(x)"
   ]
  },
  {
   "cell_type": "markdown",
   "metadata": {},
   "source": [
    "## Introduction"
   ]
  },
  {
   "cell_type": "markdown",
   "metadata": {},
   "source": [
    "Bridge is a game played by 4 players using a normal deck of 52 cards. The full deck is used so each player is dealt 13 cards. \n",
    "\n",
    "How many distinct Bridge _hands_ are there? Each hand has 13 cards picked from a shuffled deck of 52 candidates. The specific order in which the cards are dealt is irrelevant — after all, typically the first thing you do when you pick up the hand is to immediately sort the cards into suits so clearly it isn't important if you pick up the 10$\\clubsuit$ first followed later by the Q$\\heartsuit$ or vice versa.  Mathematically speaking we are only interested in the number of _combinations_ of 13 cards one can make from a pack of 52 cards (as opposed to the number of _permutations_ of 13 cards where the order of selection was important for some reason).\n",
    "\n",
    "We will use $C(n,p)$ to denote the number of combinations of $p$ objects one can make from  $n$ candidates. Combinations are well understood in mathematics and $C(n,p)$ has the formula:\n",
    "$$\n",
    "  C(n,p) = \\frac{n!}{p! \\, (n-p)!},\n",
    "$$\n",
    "where $n!$ stands for _factorial_ $n$ defined by\n",
    "$$\n",
    "  n! = n \\times (n-1) \\times (n-2) \\times \\dots \\times 2 \\times 1.\n",
    "$$"
   ]
  },
  {
   "cell_type": "markdown",
   "metadata": {},
   "source": [
    "There is a handy _Python_ function we can use to compute $C(n,p)$:"
   ]
  },
  {
   "cell_type": "code",
   "execution_count": 14,
   "metadata": {},
   "outputs": [],
   "source": [
    "def C(n,p): return scipy.special.comb(n,p,exact=True)"
   ]
  },
  {
   "cell_type": "markdown",
   "metadata": {},
   "source": [
    "So the number of distinct Bridge hands, $N_h$ is"
   ]
  },
  {
   "cell_type": "code",
   "execution_count": 15,
   "metadata": {},
   "outputs": [
    {
     "name": "stdout",
     "output_type": "stream",
     "text": [
      "635,013,559,600\n"
     ]
    }
   ],
   "source": [
    "number_of_hands = C(52, 13)\n",
    "pretty_print(number_of_hands)"
   ]
  },
  {
   "cell_type": "markdown",
   "metadata": {},
   "source": [
    "or roughly 635 billion."
   ]
  },
  {
   "cell_type": "markdown",
   "metadata": {},
   "source": [
    "However, that's only part of the story as the four players at the Bridge table each has their own 13-card hand and what really matters for any game is the set of the four hands. The Bridge term used for that set is a _board_ and there are a truly vast number of possible boards. \n",
    "\n",
    "To see that you might think of the first player getting her 13 cards from the full 52 card deck, the second getting 13 cards from the remaining 39 cards, the third getting 13 from the remaining 26 cards, and the final 13 cards going to the last player. This means that the number of possible boards is\n",
    "\n",
    "$$\n",
    "  N_b = C(52,13) \\times C(39,13) \\times C(26,13) \\times C(13,13),\n",
    "$$\n",
    "\n",
    "which we can compute using our $C$ function:"
   ]
  },
  {
   "cell_type": "code",
   "execution_count": 16,
   "metadata": {},
   "outputs": [
    {
     "name": "stdout",
     "output_type": "stream",
     "text": [
      "53,644,737,765,488,792,839,237,440,000\n"
     ]
    }
   ],
   "source": [
    "number_of_boards = C(52,13) * C(39,13) * C(26,13) * C(13,13)\n",
    "pretty_print(number_of_boards)"
   ]
  },
  {
   "cell_type": "markdown",
   "metadata": {},
   "source": [
    "That is, there are $5.36 \\times 10^{28}$ possible boards which is a staggeringly large number. There is no worry that all possible boards will be analyzed completely any time soon — Bridge will continue to be a game requiring on-the-spot analysis and skill!"
   ]
  },
  {
   "cell_type": "markdown",
   "metadata": {},
   "source": [
    "## A Suit Break Example"
   ]
  },
  {
   "cell_type": "markdown",
   "metadata": {},
   "source": [
    "To motivate things we will look at an example where we are playing in no-trump and planning our line of play at the start of the game just after the dummy has put down his hand. \n",
    "\n",
    "Suppose as declarer we hold the $\\spadesuit$AKQJ5 in our own hand and sees the $\\spadesuit$432 in the dummy's hand on the table. The opponents hold the remaining five spades (the $\\spadesuit$T9876 in this example) between them. We will try to make all five spade tricks by leading out the top spades one after another in an effort to exhaust the opponent's holding in the suit. Will that strategy work? \n",
    "\n",
    "It is easy to see that the declarer is guaranteed to make all the spade tricks as long as the missing five cards are **not** distributed 5-0 or 0-5. That 5-0 _break_ is defined to mean that the declarer's left hand opponent (LHO) has all five spades and the right hand opponent (RHO) has none. The 0-5 break equivalently means that the LHO has no spades and the RHO has all five. With a 5-0 or 0-5 break the declarer can only make four spade tricks as the opponents can block her fifth trick by hanging on to their 10$\\spadesuit$.\n",
    "\n",
    "What are the odds of getting that bad 5-0 or 0-5 break?\n",
    "\n",
    "We are at the start of play so the opponents hold a total of 26 cards between them. Repeating our earlier argument for four hands we might think of one opponent getting their 13 cards from the 26 and the remaining 13 going to her partner. So with no constraints, the number of distinct hands the opposition can have is\n",
    "\n",
    "$$\n",
    "    C(26,13) \\times C(13,13)\n",
    "$$ \n",
    "or"
   ]
  },
  {
   "cell_type": "code",
   "execution_count": 52,
   "metadata": {},
   "outputs": [
    {
     "name": "stdout",
     "output_type": "stream",
     "text": [
      "10,400,600\n"
     ]
    }
   ],
   "source": [
    "pretty_print(C(26,13)*C(13,13))"
   ]
  },
  {
   "cell_type": "markdown",
   "metadata": {},
   "source": [
    "which at a mere 10 million odd seems quite manageable after those giant numbers we encountered earlier!\n",
    "\n",
    "In the case we are considering, the opponents hold 5 spades and 21 others. What is the probability that the LHO has exactly 5 spades and by extension 8 non-spade cards (in which case of course the RHO will have exactly 0 spades and 13 others). \n",
    "\n",
    "Well the LHO gets a  selection of 5 spades from the 5 outstanding. The LHO also gets 8 other cards from the 21 non-spades outstanding. The total number of distinct hands of this form possible for the LHO is:\n",
    "\n",
    "$$\n",
    "C(5,5) \\times C(21,8)\n",
    "$$\n",
    "or"
   ]
  },
  {
   "cell_type": "code",
   "execution_count": 53,
   "metadata": {},
   "outputs": [
    {
     "name": "stdout",
     "output_type": "stream",
     "text": [
      "203,490\n"
     ]
    }
   ],
   "source": [
    "pretty_print(C(5,5)*C(21,8))"
   ]
  },
  {
   "cell_type": "markdown",
   "metadata": {},
   "source": [
    "Hence the *probability* that the LHO has all five spades (and by extension that the RHO has none) is \n",
    "\n",
    "$$\n",
    "\\frac{C(5,5) \\times C(21,8)}{C(26,13)}\n",
    "$$\n",
    "which is just"
   ]
  },
  {
   "cell_type": "code",
   "execution_count": 54,
   "metadata": {},
   "outputs": [
    {
     "name": "stdout",
     "output_type": "stream",
     "text": [
      "2.0%\n"
     ]
    }
   ],
   "source": [
    "pretty_print(C(5,5)*C(21,8) / C(26,13))"
   ]
  },
  {
   "cell_type": "markdown",
   "metadata": {},
   "source": [
    "So the chances of getting a 5-0 break is 2%. Repeating the argument you see that the chance of a 0-5 break is also 2%. Therefore the probability of getting any bad break is 4%. This means that 96% of the time the declarer can be confident of taking all five spade tricks so will feel very unlucky if things go badly in that suit!"
   ]
  },
  {
   "cell_type": "markdown",
   "metadata": {},
   "source": [
    "## Another Suit Break Example"
   ]
  },
  {
   "cell_type": "markdown",
   "metadata": {},
   "source": [
    "For our second example consider a no-trump game where declarer holds $\\spadesuit$AKQ65 in her own hand and has the $\\spadesuit$432 in the dummy's hand on the table. Her opponents have the remaining five spades (the $\\spadesuit$JT987 in this example) between them. Even missing the $\\spadesuit$J, declarer still has a very powerful spade suit and will hope to make all five spade tricks by leading out the top cards one after another in an effort to exhaust her opponent's holding in the suit. How will that strategy work this time? \n",
    "\n",
    "It is easy to see that she will make all five tricks as long as the spades break either 3-2 or 2-3 as in those cases the three tricks taken by the $\\spadesuit$AKQ will leave the opponents with no more spades and our declarer can safely cash in her two little ones. \n",
    "\n",
    "By design in this example the opponents hold all the intermediate spades so if the suit breaks 5-0 or 0-5 then the declarer can only ever make three tricks in spades. If the suit breaks 4-1 or 1-4 then the declarer can at most make four tricks in spades.\n",
    "\n",
    "What are the chances of getting the good break 3-2?\n",
    "\n",
    "Once again the opponents have 26 cards between them and 5 of those are spades and 21 are not. In this break the LHO will have 3 of 5 outstanding spades and 10 other cards. The number of distinct hands of that form for the LHO is then: \n",
    "\n",
    "$$\n",
    "C(5,3) \\times C(21,10)\n",
    "$$\n",
    "or"
   ]
  },
  {
   "cell_type": "code",
   "execution_count": 55,
   "metadata": {},
   "outputs": [
    {
     "name": "stdout",
     "output_type": "stream",
     "text": [
      "3,527,160\n"
     ]
    }
   ],
   "source": [
    "pretty_print(C(5,3)*C(21,10))"
   ]
  },
  {
   "cell_type": "markdown",
   "metadata": {},
   "source": [
    "Hence the probability that the LHO has three spades (and by extension that the RHO has two) is \n",
    "\n",
    "$$\n",
    "\\frac{C(5,3) \\times C(21,10)}{C(26,13)}\n",
    "$$\n",
    "which is just"
   ]
  },
  {
   "cell_type": "code",
   "execution_count": 56,
   "metadata": {},
   "outputs": [
    {
     "name": "stdout",
     "output_type": "stream",
     "text": [
      "33.9%\n"
     ]
    }
   ],
   "source": [
    "pretty_print(C(5,3)*C(21,10) / C(26,13))"
   ]
  },
  {
   "cell_type": "markdown",
   "metadata": {},
   "source": [
    "So the chances of getting a 3-2 break is 33.9%. Repeating the argument you see that the chance of a 2-3 break is also 33.9%. This means that the combined odds of getting that _good_ 2-3 or 3-2 break in spades is 67.8%. Not bad at all, but it does means that the there is roughly one chance in three that the declarer does _not_ get all five spade tricks so might want to have a backup plan in her pocket just in case!"
   ]
  },
  {
   "cell_type": "markdown",
   "metadata": {},
   "source": [
    "## Suit Break Probabilities at the Start of Play"
   ]
  },
  {
   "cell_type": "markdown",
   "metadata": {},
   "source": [
    "Calculating the probabilities of how the missing cards in a suit can break across the hands of two opponents is a fundamental problem for the mathematics of Bridge. Following our examples above we can readily create a function to compute the probability of any break across two hands at the start of play. The function will take two arguments, for example, if those are 4 and 3 then the function returns the probability of 4-3 break for the case where the opponents hold a total of 7 cards in the suit between them. "
   ]
  },
  {
   "cell_type": "code",
   "execution_count": 57,
   "metadata": {},
   "outputs": [],
   "source": [
    "def combinations_with_break(m,n): return C(m+n,m)*C(26-m-n, 13-m)\n",
    "def probability_of_break(m,n):    return combinations_with_break(m,n) / C(26,13)"
   ]
  },
  {
   "cell_type": "markdown",
   "metadata": {},
   "source": [
    "As a quick check we can re-compute an earlier example"
   ]
  },
  {
   "cell_type": "code",
   "execution_count": 58,
   "metadata": {},
   "outputs": [
    {
     "name": "stdout",
     "output_type": "stream",
     "text": [
      "33.9%\n"
     ]
    }
   ],
   "source": [
    "pretty_print(probability_of_break(2,3))"
   ]
  },
  {
   "cell_type": "markdown",
   "metadata": {},
   "source": [
    "We can use our `combinations_with_break(m,n)` and `probability_of_break(m,n)` functions to create a table of all the possible breaks for any given number of missing cards:"
   ]
  },
  {
   "cell_type": "code",
   "execution_count": 59,
   "metadata": {},
   "outputs": [],
   "source": [
    "def table_of_breaks_missing(m):\n",
    "    \n",
    "    # Iterate over all the possible breaks for the missing m cards from 0–m to m–0.\n",
    "    # Use our `probabilityOfBreak` function to get the associated probability for each one\n",
    "    data = [ (\"{}–{}\".format(k,m-k),\n",
    "              combinations_with_break(k,m-k), \n",
    "              probability_of_break(k,m-k)) \n",
    "            for k in range(m+1) ]\n",
    "    \n",
    "    # Set up the table for that data with some labeled columns\n",
    "    df = pd.DataFrame(data, columns = [\"Break\", \"Combinations\", \"Probability\"])\n",
    "    \n",
    "    # Format that table in a nice way\n",
    "    table_properties = { \"width\": \"20em\", \"text-align\": \"center\" }\n",
    "    header_style     = { \"selector\": \"th\", \"props\": [(\"text-align\", \"center\")] }\n",
    "    caption_style    = { \"selector\": \"caption\", \n",
    "                         \"props\": [(\"font-weight\", \"bold\"), \n",
    "                                   (\"font-style\",  \"italic\"), \n",
    "                                   (\"font-size\",   \"110%\"),\n",
    "                                   (\"text-align\",  \"center\")] }\n",
    "\n",
    "    styled_DF = df.style.hide_index().\\\n",
    "                  set_caption(\"Break Table for {} Missing Cards\".format(m)).\\\n",
    "                  format({\"Combinations\": \"{:,}\"}).\\\n",
    "                  format({\"Probability\": \"{:.2%}\"}).\\\n",
    "                  set_properties(**table_properties).\\\n",
    "                  set_table_styles([header_style, caption_style])\n",
    "    \n",
    "    return styled_DF"
   ]
  },
  {
   "cell_type": "markdown",
   "metadata": {},
   "source": [
    "For example, if we are missing just 1 card the table looks like:"
   ]
  },
  {
   "cell_type": "code",
   "execution_count": 60,
   "metadata": {},
   "outputs": [
    {
     "data": {
      "text/html": [
       "<style  type=\"text/css\" >\n",
       "    #T_61eb3cfc_be10_11ea_a3e3_acbc32b848f1 th {\n",
       "          text-align: center;\n",
       "    }    #T_61eb3cfc_be10_11ea_a3e3_acbc32b848f1 caption {\n",
       "          font-weight: bold;\n",
       "          font-style: italic;\n",
       "          font-size: 110%;\n",
       "          text-align: center;\n",
       "    }    #T_61eb3cfc_be10_11ea_a3e3_acbc32b848f1row0_col0 {\n",
       "            width:  20em;\n",
       "            text-align:  center;\n",
       "        }    #T_61eb3cfc_be10_11ea_a3e3_acbc32b848f1row0_col1 {\n",
       "            width:  20em;\n",
       "            text-align:  center;\n",
       "        }    #T_61eb3cfc_be10_11ea_a3e3_acbc32b848f1row0_col2 {\n",
       "            width:  20em;\n",
       "            text-align:  center;\n",
       "        }    #T_61eb3cfc_be10_11ea_a3e3_acbc32b848f1row1_col0 {\n",
       "            width:  20em;\n",
       "            text-align:  center;\n",
       "        }    #T_61eb3cfc_be10_11ea_a3e3_acbc32b848f1row1_col1 {\n",
       "            width:  20em;\n",
       "            text-align:  center;\n",
       "        }    #T_61eb3cfc_be10_11ea_a3e3_acbc32b848f1row1_col2 {\n",
       "            width:  20em;\n",
       "            text-align:  center;\n",
       "        }</style><table id=\"T_61eb3cfc_be10_11ea_a3e3_acbc32b848f1\" ><caption>Break Table for 1 Missing Cards</caption><thead>    <tr>        <th class=\"col_heading level0 col0\" >Break</th>        <th class=\"col_heading level0 col1\" >Combinations</th>        <th class=\"col_heading level0 col2\" >Probability</th>    </tr></thead><tbody>\n",
       "                <tr>\n",
       "                                <td id=\"T_61eb3cfc_be10_11ea_a3e3_acbc32b848f1row0_col0\" class=\"data row0 col0\" >0–1</td>\n",
       "                        <td id=\"T_61eb3cfc_be10_11ea_a3e3_acbc32b848f1row0_col1\" class=\"data row0 col1\" >5,200,300</td>\n",
       "                        <td id=\"T_61eb3cfc_be10_11ea_a3e3_acbc32b848f1row0_col2\" class=\"data row0 col2\" >50.00%</td>\n",
       "            </tr>\n",
       "            <tr>\n",
       "                                <td id=\"T_61eb3cfc_be10_11ea_a3e3_acbc32b848f1row1_col0\" class=\"data row1 col0\" >1–0</td>\n",
       "                        <td id=\"T_61eb3cfc_be10_11ea_a3e3_acbc32b848f1row1_col1\" class=\"data row1 col1\" >5,200,300</td>\n",
       "                        <td id=\"T_61eb3cfc_be10_11ea_a3e3_acbc32b848f1row1_col2\" class=\"data row1 col2\" >50.00%</td>\n",
       "            </tr>\n",
       "    </tbody></table>"
      ],
      "text/plain": [
       "<pandas.io.formats.style.Styler at 0x7ff99a783400>"
      ]
     },
     "execution_count": 60,
     "metadata": {},
     "output_type": "execute_result"
    }
   ],
   "source": [
    "table_of_breaks_missing(1)"
   ]
  },
  {
   "cell_type": "markdown",
   "metadata": {},
   "source": [
    "which is what you would expect—one of the two opponents has the missing card and in the absence of any other information it is a straight coin-flip to guess which one. \n",
    "\n",
    "In contrast if we look at the case where we are missing 2 cards"
   ]
  },
  {
   "cell_type": "code",
   "execution_count": 61,
   "metadata": {},
   "outputs": [
    {
     "data": {
      "text/html": [
       "<style  type=\"text/css\" >\n",
       "    #T_6e445074_be10_11ea_a3e3_acbc32b848f1 th {\n",
       "          text-align: center;\n",
       "    }    #T_6e445074_be10_11ea_a3e3_acbc32b848f1 caption {\n",
       "          font-weight: bold;\n",
       "          font-style: italic;\n",
       "          font-size: 110%;\n",
       "          text-align: center;\n",
       "    }    #T_6e445074_be10_11ea_a3e3_acbc32b848f1row0_col0 {\n",
       "            width:  20em;\n",
       "            text-align:  center;\n",
       "        }    #T_6e445074_be10_11ea_a3e3_acbc32b848f1row0_col1 {\n",
       "            width:  20em;\n",
       "            text-align:  center;\n",
       "        }    #T_6e445074_be10_11ea_a3e3_acbc32b848f1row0_col2 {\n",
       "            width:  20em;\n",
       "            text-align:  center;\n",
       "        }    #T_6e445074_be10_11ea_a3e3_acbc32b848f1row1_col0 {\n",
       "            width:  20em;\n",
       "            text-align:  center;\n",
       "        }    #T_6e445074_be10_11ea_a3e3_acbc32b848f1row1_col1 {\n",
       "            width:  20em;\n",
       "            text-align:  center;\n",
       "        }    #T_6e445074_be10_11ea_a3e3_acbc32b848f1row1_col2 {\n",
       "            width:  20em;\n",
       "            text-align:  center;\n",
       "        }    #T_6e445074_be10_11ea_a3e3_acbc32b848f1row2_col0 {\n",
       "            width:  20em;\n",
       "            text-align:  center;\n",
       "        }    #T_6e445074_be10_11ea_a3e3_acbc32b848f1row2_col1 {\n",
       "            width:  20em;\n",
       "            text-align:  center;\n",
       "        }    #T_6e445074_be10_11ea_a3e3_acbc32b848f1row2_col2 {\n",
       "            width:  20em;\n",
       "            text-align:  center;\n",
       "        }</style><table id=\"T_6e445074_be10_11ea_a3e3_acbc32b848f1\" ><caption>Break Table for 2 Missing Cards</caption><thead>    <tr>        <th class=\"col_heading level0 col0\" >Break</th>        <th class=\"col_heading level0 col1\" >Combinations</th>        <th class=\"col_heading level0 col2\" >Probability</th>    </tr></thead><tbody>\n",
       "                <tr>\n",
       "                                <td id=\"T_6e445074_be10_11ea_a3e3_acbc32b848f1row0_col0\" class=\"data row0 col0\" >0–2</td>\n",
       "                        <td id=\"T_6e445074_be10_11ea_a3e3_acbc32b848f1row0_col1\" class=\"data row0 col1\" >2,496,144</td>\n",
       "                        <td id=\"T_6e445074_be10_11ea_a3e3_acbc32b848f1row0_col2\" class=\"data row0 col2\" >24.00%</td>\n",
       "            </tr>\n",
       "            <tr>\n",
       "                                <td id=\"T_6e445074_be10_11ea_a3e3_acbc32b848f1row1_col0\" class=\"data row1 col0\" >1–1</td>\n",
       "                        <td id=\"T_6e445074_be10_11ea_a3e3_acbc32b848f1row1_col1\" class=\"data row1 col1\" >5,408,312</td>\n",
       "                        <td id=\"T_6e445074_be10_11ea_a3e3_acbc32b848f1row1_col2\" class=\"data row1 col2\" >52.00%</td>\n",
       "            </tr>\n",
       "            <tr>\n",
       "                                <td id=\"T_6e445074_be10_11ea_a3e3_acbc32b848f1row2_col0\" class=\"data row2 col0\" >2–0</td>\n",
       "                        <td id=\"T_6e445074_be10_11ea_a3e3_acbc32b848f1row2_col1\" class=\"data row2 col1\" >2,496,144</td>\n",
       "                        <td id=\"T_6e445074_be10_11ea_a3e3_acbc32b848f1row2_col2\" class=\"data row2 col2\" >24.00%</td>\n",
       "            </tr>\n",
       "    </tbody></table>"
      ],
      "text/plain": [
       "<pandas.io.formats.style.Styler at 0x7ff99a783d30>"
      ]
     },
     "execution_count": 61,
     "metadata": {},
     "output_type": "execute_result"
    }
   ],
   "source": [
    "table_of_breaks_missing(2)"
   ]
  },
  {
   "cell_type": "markdown",
   "metadata": {},
   "source": [
    "which is perhaps just a little off from what your initial instinct might lead you to think. For if we label the missing cards by  $a$ and $b$ then you might reason there are only four scenarios. Namely, the LHO has both cards, the LHO has just one of them (that's two more possibilities), or the LHO has neither card. With no other information these seem to be equally likely and you might conclude that the probability of a 2-0 or 0-2 break is 25% and the probability of a 1-1 break is 50%. That's _close_ to what we have in our table but obviously not an exact match. What gives?\n",
    "\n",
    "The thing missing in the simple analysis is the identities of all the _other_ cards in the two hands. So when the LHO has both $a$ and $b$ she also has 11 other cards from a pool of 24 (i.e. the 26 cards the opponents have between them less the $a$ and $b$ cards). Instead of just _one_ scenario where the LHO has both cards there are in fact\n",
    "\n",
    "$$ \n",
    "    C(24,11) = 2,496,144\n",
    "$$\n",
    "\n",
    "such 2-0 break scenarios. It is easy to see that there are exactly the same number of 0-2 break scenarios. So the total number of scenarios that yield a 2-0 or 0-2 break is 4,992,288\n",
    "\n",
    "Similarly instead of there being just _two_ scenarios where the LHO has just one of the two cards you should think that if she has one of $a$ or $b$ then she also has 12 other cards from that pool of 24 so there are \n",
    "\n",
    "$$\n",
    "    2 C(24,12) = 5,408,312\n",
    "$$\n",
    "\n",
    "scenarios where we get a 1-1 break. That is a bit more than the 4,992,288 scenarios where we _don't_ get a 1-1 break! This means that at the start of play the probability of getting a 1-1 break is in fact slightly higher than 50%!\n",
    "\n",
    "Moving on to the situation where we are missing 3 cards we have:"
   ]
  },
  {
   "cell_type": "code",
   "execution_count": 49,
   "metadata": {},
   "outputs": [
    {
     "data": {
      "text/html": [
       "<style  type=\"text/css\" >\n",
       "    #T_23a169b2_be10_11ea_a3e3_acbc32b848f1 th {\n",
       "          text-align: center;\n",
       "    }    #T_23a169b2_be10_11ea_a3e3_acbc32b848f1 caption {\n",
       "          font-weight: bold;\n",
       "          font-style: italic;\n",
       "          font-size: 110%;\n",
       "          text-align: center;\n",
       "    }    #T_23a169b2_be10_11ea_a3e3_acbc32b848f1row0_col0 {\n",
       "            width:  20em;\n",
       "            text-align:  center;\n",
       "        }    #T_23a169b2_be10_11ea_a3e3_acbc32b848f1row0_col1 {\n",
       "            width:  20em;\n",
       "            text-align:  center;\n",
       "        }    #T_23a169b2_be10_11ea_a3e3_acbc32b848f1row0_col2 {\n",
       "            width:  20em;\n",
       "            text-align:  center;\n",
       "        }    #T_23a169b2_be10_11ea_a3e3_acbc32b848f1row1_col0 {\n",
       "            width:  20em;\n",
       "            text-align:  center;\n",
       "        }    #T_23a169b2_be10_11ea_a3e3_acbc32b848f1row1_col1 {\n",
       "            width:  20em;\n",
       "            text-align:  center;\n",
       "        }    #T_23a169b2_be10_11ea_a3e3_acbc32b848f1row1_col2 {\n",
       "            width:  20em;\n",
       "            text-align:  center;\n",
       "        }    #T_23a169b2_be10_11ea_a3e3_acbc32b848f1row2_col0 {\n",
       "            width:  20em;\n",
       "            text-align:  center;\n",
       "        }    #T_23a169b2_be10_11ea_a3e3_acbc32b848f1row2_col1 {\n",
       "            width:  20em;\n",
       "            text-align:  center;\n",
       "        }    #T_23a169b2_be10_11ea_a3e3_acbc32b848f1row2_col2 {\n",
       "            width:  20em;\n",
       "            text-align:  center;\n",
       "        }    #T_23a169b2_be10_11ea_a3e3_acbc32b848f1row3_col0 {\n",
       "            width:  20em;\n",
       "            text-align:  center;\n",
       "        }    #T_23a169b2_be10_11ea_a3e3_acbc32b848f1row3_col1 {\n",
       "            width:  20em;\n",
       "            text-align:  center;\n",
       "        }    #T_23a169b2_be10_11ea_a3e3_acbc32b848f1row3_col2 {\n",
       "            width:  20em;\n",
       "            text-align:  center;\n",
       "        }</style><table id=\"T_23a169b2_be10_11ea_a3e3_acbc32b848f1\" ><caption>Break Table for 3 Missing Cards</caption><thead>    <tr>        <th class=\"col_heading level0 col0\" >Break</th>        <th class=\"col_heading level0 col1\" >Combinations</th>        <th class=\"col_heading level0 col2\" >Probability</th>    </tr></thead><tbody>\n",
       "                <tr>\n",
       "                                <td id=\"T_23a169b2_be10_11ea_a3e3_acbc32b848f1row0_col0\" class=\"data row0 col0\" >0–3</td>\n",
       "                        <td id=\"T_23a169b2_be10_11ea_a3e3_acbc32b848f1row0_col1\" class=\"data row0 col1\" >1,144,066</td>\n",
       "                        <td id=\"T_23a169b2_be10_11ea_a3e3_acbc32b848f1row0_col2\" class=\"data row0 col2\" >11.00%</td>\n",
       "            </tr>\n",
       "            <tr>\n",
       "                                <td id=\"T_23a169b2_be10_11ea_a3e3_acbc32b848f1row1_col0\" class=\"data row1 col0\" >1–2</td>\n",
       "                        <td id=\"T_23a169b2_be10_11ea_a3e3_acbc32b848f1row1_col1\" class=\"data row1 col1\" >4,056,234</td>\n",
       "                        <td id=\"T_23a169b2_be10_11ea_a3e3_acbc32b848f1row1_col2\" class=\"data row1 col2\" >39.00%</td>\n",
       "            </tr>\n",
       "            <tr>\n",
       "                                <td id=\"T_23a169b2_be10_11ea_a3e3_acbc32b848f1row2_col0\" class=\"data row2 col0\" >2–1</td>\n",
       "                        <td id=\"T_23a169b2_be10_11ea_a3e3_acbc32b848f1row2_col1\" class=\"data row2 col1\" >4,056,234</td>\n",
       "                        <td id=\"T_23a169b2_be10_11ea_a3e3_acbc32b848f1row2_col2\" class=\"data row2 col2\" >39.00%</td>\n",
       "            </tr>\n",
       "            <tr>\n",
       "                                <td id=\"T_23a169b2_be10_11ea_a3e3_acbc32b848f1row3_col0\" class=\"data row3 col0\" >3–0</td>\n",
       "                        <td id=\"T_23a169b2_be10_11ea_a3e3_acbc32b848f1row3_col1\" class=\"data row3 col1\" >1,144,066</td>\n",
       "                        <td id=\"T_23a169b2_be10_11ea_a3e3_acbc32b848f1row3_col2\" class=\"data row3 col2\" >11.00%</td>\n",
       "            </tr>\n",
       "    </tbody></table>"
      ],
      "text/plain": [
       "<pandas.io.formats.style.Styler at 0x7ff99a7fb310>"
      ]
     },
     "execution_count": 49,
     "metadata": {},
     "output_type": "execute_result"
    }
   ],
   "source": [
    "table_of_breaks_missing(3)"
   ]
  },
  {
   "cell_type": "markdown",
   "metadata": {},
   "source": [
    "and as we mentioned earlier there is an excellent 78% chance the declarer will see one of the two most even breaks (namely 1-2 or 2-1).\n",
    "\n",
    "For 4 missing cards we have:"
   ]
  },
  {
   "cell_type": "code",
   "execution_count": 62,
   "metadata": {},
   "outputs": [
    {
     "data": {
      "text/html": [
       "<style  type=\"text/css\" >\n",
       "    #T_b4cadf4a_be10_11ea_a3e3_acbc32b848f1 th {\n",
       "          text-align: center;\n",
       "    }    #T_b4cadf4a_be10_11ea_a3e3_acbc32b848f1 caption {\n",
       "          font-weight: bold;\n",
       "          font-style: italic;\n",
       "          font-size: 110%;\n",
       "          text-align: center;\n",
       "    }    #T_b4cadf4a_be10_11ea_a3e3_acbc32b848f1row0_col0 {\n",
       "            width:  20em;\n",
       "            text-align:  center;\n",
       "        }    #T_b4cadf4a_be10_11ea_a3e3_acbc32b848f1row0_col1 {\n",
       "            width:  20em;\n",
       "            text-align:  center;\n",
       "        }    #T_b4cadf4a_be10_11ea_a3e3_acbc32b848f1row0_col2 {\n",
       "            width:  20em;\n",
       "            text-align:  center;\n",
       "        }    #T_b4cadf4a_be10_11ea_a3e3_acbc32b848f1row1_col0 {\n",
       "            width:  20em;\n",
       "            text-align:  center;\n",
       "        }    #T_b4cadf4a_be10_11ea_a3e3_acbc32b848f1row1_col1 {\n",
       "            width:  20em;\n",
       "            text-align:  center;\n",
       "        }    #T_b4cadf4a_be10_11ea_a3e3_acbc32b848f1row1_col2 {\n",
       "            width:  20em;\n",
       "            text-align:  center;\n",
       "        }    #T_b4cadf4a_be10_11ea_a3e3_acbc32b848f1row2_col0 {\n",
       "            width:  20em;\n",
       "            text-align:  center;\n",
       "        }    #T_b4cadf4a_be10_11ea_a3e3_acbc32b848f1row2_col1 {\n",
       "            width:  20em;\n",
       "            text-align:  center;\n",
       "        }    #T_b4cadf4a_be10_11ea_a3e3_acbc32b848f1row2_col2 {\n",
       "            width:  20em;\n",
       "            text-align:  center;\n",
       "        }    #T_b4cadf4a_be10_11ea_a3e3_acbc32b848f1row3_col0 {\n",
       "            width:  20em;\n",
       "            text-align:  center;\n",
       "        }    #T_b4cadf4a_be10_11ea_a3e3_acbc32b848f1row3_col1 {\n",
       "            width:  20em;\n",
       "            text-align:  center;\n",
       "        }    #T_b4cadf4a_be10_11ea_a3e3_acbc32b848f1row3_col2 {\n",
       "            width:  20em;\n",
       "            text-align:  center;\n",
       "        }    #T_b4cadf4a_be10_11ea_a3e3_acbc32b848f1row4_col0 {\n",
       "            width:  20em;\n",
       "            text-align:  center;\n",
       "        }    #T_b4cadf4a_be10_11ea_a3e3_acbc32b848f1row4_col1 {\n",
       "            width:  20em;\n",
       "            text-align:  center;\n",
       "        }    #T_b4cadf4a_be10_11ea_a3e3_acbc32b848f1row4_col2 {\n",
       "            width:  20em;\n",
       "            text-align:  center;\n",
       "        }</style><table id=\"T_b4cadf4a_be10_11ea_a3e3_acbc32b848f1\" ><caption>Break Table for 4 Missing Cards</caption><thead>    <tr>        <th class=\"col_heading level0 col0\" >Break</th>        <th class=\"col_heading level0 col1\" >Combinations</th>        <th class=\"col_heading level0 col2\" >Probability</th>    </tr></thead><tbody>\n",
       "                <tr>\n",
       "                                <td id=\"T_b4cadf4a_be10_11ea_a3e3_acbc32b848f1row0_col0\" class=\"data row0 col0\" >0–4</td>\n",
       "                        <td id=\"T_b4cadf4a_be10_11ea_a3e3_acbc32b848f1row0_col1\" class=\"data row0 col1\" >497,420</td>\n",
       "                        <td id=\"T_b4cadf4a_be10_11ea_a3e3_acbc32b848f1row0_col2\" class=\"data row0 col2\" >4.78%</td>\n",
       "            </tr>\n",
       "            <tr>\n",
       "                                <td id=\"T_b4cadf4a_be10_11ea_a3e3_acbc32b848f1row1_col0\" class=\"data row1 col0\" >1–3</td>\n",
       "                        <td id=\"T_b4cadf4a_be10_11ea_a3e3_acbc32b848f1row1_col1\" class=\"data row1 col1\" >2,586,584</td>\n",
       "                        <td id=\"T_b4cadf4a_be10_11ea_a3e3_acbc32b848f1row1_col2\" class=\"data row1 col2\" >24.87%</td>\n",
       "            </tr>\n",
       "            <tr>\n",
       "                                <td id=\"T_b4cadf4a_be10_11ea_a3e3_acbc32b848f1row2_col0\" class=\"data row2 col0\" >2–2</td>\n",
       "                        <td id=\"T_b4cadf4a_be10_11ea_a3e3_acbc32b848f1row2_col1\" class=\"data row2 col1\" >4,232,592</td>\n",
       "                        <td id=\"T_b4cadf4a_be10_11ea_a3e3_acbc32b848f1row2_col2\" class=\"data row2 col2\" >40.70%</td>\n",
       "            </tr>\n",
       "            <tr>\n",
       "                                <td id=\"T_b4cadf4a_be10_11ea_a3e3_acbc32b848f1row3_col0\" class=\"data row3 col0\" >3–1</td>\n",
       "                        <td id=\"T_b4cadf4a_be10_11ea_a3e3_acbc32b848f1row3_col1\" class=\"data row3 col1\" >2,586,584</td>\n",
       "                        <td id=\"T_b4cadf4a_be10_11ea_a3e3_acbc32b848f1row3_col2\" class=\"data row3 col2\" >24.87%</td>\n",
       "            </tr>\n",
       "            <tr>\n",
       "                                <td id=\"T_b4cadf4a_be10_11ea_a3e3_acbc32b848f1row4_col0\" class=\"data row4 col0\" >4–0</td>\n",
       "                        <td id=\"T_b4cadf4a_be10_11ea_a3e3_acbc32b848f1row4_col1\" class=\"data row4 col1\" >497,420</td>\n",
       "                        <td id=\"T_b4cadf4a_be10_11ea_a3e3_acbc32b848f1row4_col2\" class=\"data row4 col2\" >4.78%</td>\n",
       "            </tr>\n",
       "    </tbody></table>"
      ],
      "text/plain": [
       "<pandas.io.formats.style.Styler at 0x7ff99a783c70>"
      ]
     },
     "execution_count": 62,
     "metadata": {},
     "output_type": "execute_result"
    }
   ],
   "source": [
    "table_of_breaks_missing(4)"
   ]
  },
  {
   "cell_type": "markdown",
   "metadata": {},
   "source": [
    "so the chance of a perfect 2-2 split is only about 41%.\n",
    "\n",
    "How about 5 missing cards?"
   ]
  },
  {
   "cell_type": "code",
   "execution_count": 63,
   "metadata": {},
   "outputs": [
    {
     "data": {
      "text/html": [
       "<style  type=\"text/css\" >\n",
       "    #T_ddd8ac46_be10_11ea_a3e3_acbc32b848f1 th {\n",
       "          text-align: center;\n",
       "    }    #T_ddd8ac46_be10_11ea_a3e3_acbc32b848f1 caption {\n",
       "          font-weight: bold;\n",
       "          font-style: italic;\n",
       "          font-size: 110%;\n",
       "          text-align: center;\n",
       "    }    #T_ddd8ac46_be10_11ea_a3e3_acbc32b848f1row0_col0 {\n",
       "            width:  20em;\n",
       "            text-align:  center;\n",
       "        }    #T_ddd8ac46_be10_11ea_a3e3_acbc32b848f1row0_col1 {\n",
       "            width:  20em;\n",
       "            text-align:  center;\n",
       "        }    #T_ddd8ac46_be10_11ea_a3e3_acbc32b848f1row0_col2 {\n",
       "            width:  20em;\n",
       "            text-align:  center;\n",
       "        }    #T_ddd8ac46_be10_11ea_a3e3_acbc32b848f1row1_col0 {\n",
       "            width:  20em;\n",
       "            text-align:  center;\n",
       "        }    #T_ddd8ac46_be10_11ea_a3e3_acbc32b848f1row1_col1 {\n",
       "            width:  20em;\n",
       "            text-align:  center;\n",
       "        }    #T_ddd8ac46_be10_11ea_a3e3_acbc32b848f1row1_col2 {\n",
       "            width:  20em;\n",
       "            text-align:  center;\n",
       "        }    #T_ddd8ac46_be10_11ea_a3e3_acbc32b848f1row2_col0 {\n",
       "            width:  20em;\n",
       "            text-align:  center;\n",
       "        }    #T_ddd8ac46_be10_11ea_a3e3_acbc32b848f1row2_col1 {\n",
       "            width:  20em;\n",
       "            text-align:  center;\n",
       "        }    #T_ddd8ac46_be10_11ea_a3e3_acbc32b848f1row2_col2 {\n",
       "            width:  20em;\n",
       "            text-align:  center;\n",
       "        }    #T_ddd8ac46_be10_11ea_a3e3_acbc32b848f1row3_col0 {\n",
       "            width:  20em;\n",
       "            text-align:  center;\n",
       "        }    #T_ddd8ac46_be10_11ea_a3e3_acbc32b848f1row3_col1 {\n",
       "            width:  20em;\n",
       "            text-align:  center;\n",
       "        }    #T_ddd8ac46_be10_11ea_a3e3_acbc32b848f1row3_col2 {\n",
       "            width:  20em;\n",
       "            text-align:  center;\n",
       "        }    #T_ddd8ac46_be10_11ea_a3e3_acbc32b848f1row4_col0 {\n",
       "            width:  20em;\n",
       "            text-align:  center;\n",
       "        }    #T_ddd8ac46_be10_11ea_a3e3_acbc32b848f1row4_col1 {\n",
       "            width:  20em;\n",
       "            text-align:  center;\n",
       "        }    #T_ddd8ac46_be10_11ea_a3e3_acbc32b848f1row4_col2 {\n",
       "            width:  20em;\n",
       "            text-align:  center;\n",
       "        }    #T_ddd8ac46_be10_11ea_a3e3_acbc32b848f1row5_col0 {\n",
       "            width:  20em;\n",
       "            text-align:  center;\n",
       "        }    #T_ddd8ac46_be10_11ea_a3e3_acbc32b848f1row5_col1 {\n",
       "            width:  20em;\n",
       "            text-align:  center;\n",
       "        }    #T_ddd8ac46_be10_11ea_a3e3_acbc32b848f1row5_col2 {\n",
       "            width:  20em;\n",
       "            text-align:  center;\n",
       "        }</style><table id=\"T_ddd8ac46_be10_11ea_a3e3_acbc32b848f1\" ><caption>Break Table for 5 Missing Cards</caption><thead>    <tr>        <th class=\"col_heading level0 col0\" >Break</th>        <th class=\"col_heading level0 col1\" >Combinations</th>        <th class=\"col_heading level0 col2\" >Probability</th>    </tr></thead><tbody>\n",
       "                <tr>\n",
       "                                <td id=\"T_ddd8ac46_be10_11ea_a3e3_acbc32b848f1row0_col0\" class=\"data row0 col0\" >0–5</td>\n",
       "                        <td id=\"T_ddd8ac46_be10_11ea_a3e3_acbc32b848f1row0_col1\" class=\"data row0 col1\" >203,490</td>\n",
       "                        <td id=\"T_ddd8ac46_be10_11ea_a3e3_acbc32b848f1row0_col2\" class=\"data row0 col2\" >1.96%</td>\n",
       "            </tr>\n",
       "            <tr>\n",
       "                                <td id=\"T_ddd8ac46_be10_11ea_a3e3_acbc32b848f1row1_col0\" class=\"data row1 col0\" >1–4</td>\n",
       "                        <td id=\"T_ddd8ac46_be10_11ea_a3e3_acbc32b848f1row1_col1\" class=\"data row1 col1\" >1,469,650</td>\n",
       "                        <td id=\"T_ddd8ac46_be10_11ea_a3e3_acbc32b848f1row1_col2\" class=\"data row1 col2\" >14.13%</td>\n",
       "            </tr>\n",
       "            <tr>\n",
       "                                <td id=\"T_ddd8ac46_be10_11ea_a3e3_acbc32b848f1row2_col0\" class=\"data row2 col0\" >2–3</td>\n",
       "                        <td id=\"T_ddd8ac46_be10_11ea_a3e3_acbc32b848f1row2_col1\" class=\"data row2 col1\" >3,527,160</td>\n",
       "                        <td id=\"T_ddd8ac46_be10_11ea_a3e3_acbc32b848f1row2_col2\" class=\"data row2 col2\" >33.91%</td>\n",
       "            </tr>\n",
       "            <tr>\n",
       "                                <td id=\"T_ddd8ac46_be10_11ea_a3e3_acbc32b848f1row3_col0\" class=\"data row3 col0\" >3–2</td>\n",
       "                        <td id=\"T_ddd8ac46_be10_11ea_a3e3_acbc32b848f1row3_col1\" class=\"data row3 col1\" >3,527,160</td>\n",
       "                        <td id=\"T_ddd8ac46_be10_11ea_a3e3_acbc32b848f1row3_col2\" class=\"data row3 col2\" >33.91%</td>\n",
       "            </tr>\n",
       "            <tr>\n",
       "                                <td id=\"T_ddd8ac46_be10_11ea_a3e3_acbc32b848f1row4_col0\" class=\"data row4 col0\" >4–1</td>\n",
       "                        <td id=\"T_ddd8ac46_be10_11ea_a3e3_acbc32b848f1row4_col1\" class=\"data row4 col1\" >1,469,650</td>\n",
       "                        <td id=\"T_ddd8ac46_be10_11ea_a3e3_acbc32b848f1row4_col2\" class=\"data row4 col2\" >14.13%</td>\n",
       "            </tr>\n",
       "            <tr>\n",
       "                                <td id=\"T_ddd8ac46_be10_11ea_a3e3_acbc32b848f1row5_col0\" class=\"data row5 col0\" >5–0</td>\n",
       "                        <td id=\"T_ddd8ac46_be10_11ea_a3e3_acbc32b848f1row5_col1\" class=\"data row5 col1\" >203,490</td>\n",
       "                        <td id=\"T_ddd8ac46_be10_11ea_a3e3_acbc32b848f1row5_col2\" class=\"data row5 col2\" >1.96%</td>\n",
       "            </tr>\n",
       "    </tbody></table>"
      ],
      "text/plain": [
       "<pandas.io.formats.style.Styler at 0x7ff99a783490>"
      ]
     },
     "execution_count": 63,
     "metadata": {},
     "output_type": "execute_result"
    }
   ],
   "source": [
    "table_of_breaks_missing(5)"
   ]
  },
  {
   "cell_type": "markdown",
   "metadata": {},
   "source": [
    "We see that the most even possible breaks (either 2-3 or 3-2) capture roughly 68% of the scenarios. That is very useful information for the declarer. "
   ]
  },
  {
   "cell_type": "markdown",
   "metadata": {},
   "source": [
    "## \"Eight Ever, Nine Never\""
   ]
  },
  {
   "cell_type": "markdown",
   "metadata": {},
   "source": [
    "A declarer will often have a total of 8 or 9 cards in some key suit between her own and dummy's hand and squeezing the maximum number of tricks out of this suit is often critical for success. If the holding is headed by the Ace and King but is missing the Queen she is faced with a classic choice of playing out the Ace and King and hoping that the Queen will _drop_, or instead trying to _finesse_ the Queen to prevent the opponents capturing a trick. Of course there may be other information the declarer can glean from the bidding or the play of the other suits to inform this decision, but every player at some point in their Bridge career learns that absent that, the rule to follow is _eight ever, nine never_, meaning that you should always go for the finesse if you hold just 8 cards in the suit and always go for the drop if you are holding 9 cards.  Where does that wisdom that come from and just how good is it anyway?"
   ]
  },
  {
   "cell_type": "markdown",
   "metadata": {},
   "source": [
    "### Holding 9 — The Drop"
   ]
  },
  {
   "cell_type": "markdown",
   "metadata": {},
   "source": [
    "Consider the case where the declarer has 9 trump with say AKJT9 opposite the 5432 in dummy. The simplest strategy is to play for the drop by cashing in the Ace and King hoping the Queen falls. This will happen if the Queen is a singleton or one of a doubleton. What are the odds of that being the case?\n",
    " \n",
    "The opponents hold 4 trumps between them so the Queen will appear in a doubleton is if we get an even 2-2 break. That has the probability"
   ]
  },
  {
   "cell_type": "code",
   "execution_count": 31,
   "metadata": {},
   "outputs": [
    {
     "name": "stdout",
     "output_type": "stream",
     "text": [
      "40.7%\n"
     ]
    }
   ],
   "source": [
    "pretty_print(probability_of_break(2,2))"
   ]
  },
  {
   "cell_type": "markdown",
   "metadata": {},
   "source": [
    "The Queen will also fall if it is a singleton which will be the case in one quarter of all the 3-1 breaks and one quarter all the 1-3 breaks which is"
   ]
  },
  {
   "cell_type": "code",
   "execution_count": 32,
   "metadata": {},
   "outputs": [
    {
     "name": "stdout",
     "output_type": "stream",
     "text": [
      "12.4%\n"
     ]
    }
   ],
   "source": [
    "pretty_print(0.25*(probability_of_break(3,1) + probability_of_break(1,3)))"
   ]
  },
  {
   "cell_type": "markdown",
   "metadata": {},
   "source": [
    "So all in all the drop will work some 53.1% of the time. Not exactly a bet-the-house percentage but the perhaps better odds than you get from trying the finesse?"
   ]
  },
  {
   "cell_type": "markdown",
   "metadata": {},
   "source": [
    "### Holding 9 — The Finesse\n",
    "\n",
    "As before the declarer has 9 cards in the suit; the AKJ76 opposite the 5432 in dummy and we'll assume that she has as many entries to dummy as needed. The basic finesse strategy is to first cash in the Ace and then cross to the dummy and play low towards the Jack (obviously covering the Queen if the RHO plays it), return to dummy and repeat. The strategy succeeds if the opponents cards in the suit are divided in any of the following ways: \n",
    "\n",
    "|  Scenario  | LHO | RHO | Comment                                                           |\n",
    "|:--:|:---:|:---:| ------------------------------------------------------------------------- |\n",
    "| 1. | Q   | T98 | The Q falls immediately to the A. The T9 are then mopped up by the KJ     |\n",
    "| 2. | T98 | Q   | The same thing.                                                           |\n",
    "| 3. | xx  | Qx  | x stands for any of the T98. The Q falls on the second play from dummy.   |\n",
    "| 4. | x   | Qxx | The Q falls on the third round! The _finesse_ succeeds, the _drop_ fails. |\n",
    "\n",
    "On the other hand the finesse fails if:\n",
    "\n",
    "| Scenario  | LHO  | RHO  | Comment                                                            |\n",
    "|:--:|:----:|:----:| ------------------------------------------------------------------------- |\n",
    "| 5. | Qx   | xx   | The _drop_ strategy works in this situation but the _finesse_ fails!      |\n",
    "| 6. | Qxx  | x    | Declarer cannot capture the Q in this situation. Both strategies fail.    |\n",
    "| 7. | QT98 | -    | Same thing.                                                               |\n",
    "| 8. | -    | QT98 | Good try but the dummy is too short to finesse our way to success.        |\n",
    "\n",
    "Concentrating on the first table where the finesse succeeds we see that 1. is a subset of a 1-3 break where the Queen is the singleton (so 25% of all 1-3 breaks). Similarly 2. happens in 25% of all 3-1 breaks. There are 6 possible 2-2 breaks and scenario 3. represents three of them as the x in Qx can be one of T98. So scenario 3. occurs in 50% of all 2-2 breaks. Finally scenario 4. is a another 1-3 break and three of the four 1-3 breaks will have this form. \n",
    "\n",
    "So the probability of success for the finesse is:"
   ]
  },
  {
   "cell_type": "code",
   "execution_count": 33,
   "metadata": {},
   "outputs": [
    {
     "name": "stdout",
     "output_type": "stream",
     "text": [
      "51.4%\n"
     ]
    }
   ],
   "source": [
    "pretty_print(0.25*probability_of_break(1,3) + \n",
    "             0.25*probability_of_break(3,1) + \n",
    "             0.50*probability_of_break(2,2) + \n",
    "             0.75*probability_of_break(1,3))"
   ]
  },
  {
   "cell_type": "markdown",
   "metadata": {},
   "source": [
    "i.e. the _drop_ has a 53.1% chance of success whereas the _finesse_ has a 51.4% chance. There is then just a slight preference for playing for the drop when you hold nine cards in the suit and need to capture the missing Queen. However, both strategies are really not much better than a coin flip! Ideally you might try and garner some other information to inform your play before embarking on either line of attack. \n",
    "\n",
    "The place where this type of decision has to be made early is often when you are drawing trump. The declarer is usually worried about the defense getting a ruffing trick and cannot wait before playing out the trump suit. In that case the optimal strategy (by a whisker) is to play for the drop. \n",
    "\n",
    "Looking at our tables above we see that the defense will always get a trump trick in scenarios 6, 7, and 8. The _finesse_ works in scenario 4 where the _drop_ fails while the exact opposite happens in scenario 5. For the particular layout here where we have 9 cards in all it turns out that scenario 5 is slightly more frequent than scenario 4 and hence the _drop_ is favored."
   ]
  },
  {
   "cell_type": "markdown",
   "metadata": {},
   "source": [
    "## Breaks for Any Number of Missing Cards at the Start of Play"
   ]
  },
  {
   "cell_type": "code",
   "execution_count": 35,
   "metadata": {},
   "outputs": [
    {
     "data": {
      "text/html": [
       "<style  type=\"text/css\" >\n",
       "    #T_0c2a36a0_be0c_11ea_a3e3_acbc32b848f1 th {\n",
       "          text-align: center;\n",
       "    }    #T_0c2a36a0_be0c_11ea_a3e3_acbc32b848f1 caption {\n",
       "          font-weight: bold;\n",
       "          font-style: italic;\n",
       "          font-size: 110%;\n",
       "          text-align: center;\n",
       "    }    #T_0c2a36a0_be0c_11ea_a3e3_acbc32b848f1row0_col0 {\n",
       "            width:  20em;\n",
       "            text-align:  center;\n",
       "        }    #T_0c2a36a0_be0c_11ea_a3e3_acbc32b848f1row0_col1 {\n",
       "            width:  20em;\n",
       "            text-align:  center;\n",
       "        }    #T_0c2a36a0_be0c_11ea_a3e3_acbc32b848f1row1_col0 {\n",
       "            width:  20em;\n",
       "            text-align:  center;\n",
       "        }    #T_0c2a36a0_be0c_11ea_a3e3_acbc32b848f1row1_col1 {\n",
       "            width:  20em;\n",
       "            text-align:  center;\n",
       "        }</style><table id=\"T_0c2a36a0_be0c_11ea_a3e3_acbc32b848f1\" ><caption>Break Probabilities for 1 Missing Cards</caption><thead>    <tr>        <th class=\"col_heading level0 col0\" >Break</th>        <th class=\"col_heading level0 col1\" >Probability</th>    </tr></thead><tbody>\n",
       "                <tr>\n",
       "                                <td id=\"T_0c2a36a0_be0c_11ea_a3e3_acbc32b848f1row0_col0\" class=\"data row0 col0\" >0–1</td>\n",
       "                        <td id=\"T_0c2a36a0_be0c_11ea_a3e3_acbc32b848f1row0_col1\" class=\"data row0 col1\" >50.00%</td>\n",
       "            </tr>\n",
       "            <tr>\n",
       "                                <td id=\"T_0c2a36a0_be0c_11ea_a3e3_acbc32b848f1row1_col0\" class=\"data row1 col0\" >1–0</td>\n",
       "                        <td id=\"T_0c2a36a0_be0c_11ea_a3e3_acbc32b848f1row1_col1\" class=\"data row1 col1\" >50.00%</td>\n",
       "            </tr>\n",
       "    </tbody></table>"
      ],
      "text/plain": [
       "<pandas.io.formats.style.Styler at 0x7ff99a71bf40>"
      ]
     },
     "metadata": {},
     "output_type": "display_data"
    },
    {
     "data": {
      "text/html": [
       "<style  type=\"text/css\" >\n",
       "    #T_0c2b2ae2_be0c_11ea_a3e3_acbc32b848f1 th {\n",
       "          text-align: center;\n",
       "    }    #T_0c2b2ae2_be0c_11ea_a3e3_acbc32b848f1 caption {\n",
       "          font-weight: bold;\n",
       "          font-style: italic;\n",
       "          font-size: 110%;\n",
       "          text-align: center;\n",
       "    }    #T_0c2b2ae2_be0c_11ea_a3e3_acbc32b848f1row0_col0 {\n",
       "            width:  20em;\n",
       "            text-align:  center;\n",
       "        }    #T_0c2b2ae2_be0c_11ea_a3e3_acbc32b848f1row0_col1 {\n",
       "            width:  20em;\n",
       "            text-align:  center;\n",
       "        }    #T_0c2b2ae2_be0c_11ea_a3e3_acbc32b848f1row1_col0 {\n",
       "            width:  20em;\n",
       "            text-align:  center;\n",
       "        }    #T_0c2b2ae2_be0c_11ea_a3e3_acbc32b848f1row1_col1 {\n",
       "            width:  20em;\n",
       "            text-align:  center;\n",
       "        }    #T_0c2b2ae2_be0c_11ea_a3e3_acbc32b848f1row2_col0 {\n",
       "            width:  20em;\n",
       "            text-align:  center;\n",
       "        }    #T_0c2b2ae2_be0c_11ea_a3e3_acbc32b848f1row2_col1 {\n",
       "            width:  20em;\n",
       "            text-align:  center;\n",
       "        }</style><table id=\"T_0c2b2ae2_be0c_11ea_a3e3_acbc32b848f1\" ><caption>Break Probabilities for 2 Missing Cards</caption><thead>    <tr>        <th class=\"col_heading level0 col0\" >Break</th>        <th class=\"col_heading level0 col1\" >Probability</th>    </tr></thead><tbody>\n",
       "                <tr>\n",
       "                                <td id=\"T_0c2b2ae2_be0c_11ea_a3e3_acbc32b848f1row0_col0\" class=\"data row0 col0\" >0–2</td>\n",
       "                        <td id=\"T_0c2b2ae2_be0c_11ea_a3e3_acbc32b848f1row0_col1\" class=\"data row0 col1\" >24.00%</td>\n",
       "            </tr>\n",
       "            <tr>\n",
       "                                <td id=\"T_0c2b2ae2_be0c_11ea_a3e3_acbc32b848f1row1_col0\" class=\"data row1 col0\" >1–1</td>\n",
       "                        <td id=\"T_0c2b2ae2_be0c_11ea_a3e3_acbc32b848f1row1_col1\" class=\"data row1 col1\" >52.00%</td>\n",
       "            </tr>\n",
       "            <tr>\n",
       "                                <td id=\"T_0c2b2ae2_be0c_11ea_a3e3_acbc32b848f1row2_col0\" class=\"data row2 col0\" >2–0</td>\n",
       "                        <td id=\"T_0c2b2ae2_be0c_11ea_a3e3_acbc32b848f1row2_col1\" class=\"data row2 col1\" >24.00%</td>\n",
       "            </tr>\n",
       "    </tbody></table>"
      ],
      "text/plain": [
       "<pandas.io.formats.style.Styler at 0x7ff99a721670>"
      ]
     },
     "metadata": {},
     "output_type": "display_data"
    },
    {
     "data": {
      "text/html": [
       "<style  type=\"text/css\" >\n",
       "    #T_0c2c20d2_be0c_11ea_a3e3_acbc32b848f1 th {\n",
       "          text-align: center;\n",
       "    }    #T_0c2c20d2_be0c_11ea_a3e3_acbc32b848f1 caption {\n",
       "          font-weight: bold;\n",
       "          font-style: italic;\n",
       "          font-size: 110%;\n",
       "          text-align: center;\n",
       "    }    #T_0c2c20d2_be0c_11ea_a3e3_acbc32b848f1row0_col0 {\n",
       "            width:  20em;\n",
       "            text-align:  center;\n",
       "        }    #T_0c2c20d2_be0c_11ea_a3e3_acbc32b848f1row0_col1 {\n",
       "            width:  20em;\n",
       "            text-align:  center;\n",
       "        }    #T_0c2c20d2_be0c_11ea_a3e3_acbc32b848f1row1_col0 {\n",
       "            width:  20em;\n",
       "            text-align:  center;\n",
       "        }    #T_0c2c20d2_be0c_11ea_a3e3_acbc32b848f1row1_col1 {\n",
       "            width:  20em;\n",
       "            text-align:  center;\n",
       "        }    #T_0c2c20d2_be0c_11ea_a3e3_acbc32b848f1row2_col0 {\n",
       "            width:  20em;\n",
       "            text-align:  center;\n",
       "        }    #T_0c2c20d2_be0c_11ea_a3e3_acbc32b848f1row2_col1 {\n",
       "            width:  20em;\n",
       "            text-align:  center;\n",
       "        }    #T_0c2c20d2_be0c_11ea_a3e3_acbc32b848f1row3_col0 {\n",
       "            width:  20em;\n",
       "            text-align:  center;\n",
       "        }    #T_0c2c20d2_be0c_11ea_a3e3_acbc32b848f1row3_col1 {\n",
       "            width:  20em;\n",
       "            text-align:  center;\n",
       "        }</style><table id=\"T_0c2c20d2_be0c_11ea_a3e3_acbc32b848f1\" ><caption>Break Probabilities for 3 Missing Cards</caption><thead>    <tr>        <th class=\"col_heading level0 col0\" >Break</th>        <th class=\"col_heading level0 col1\" >Probability</th>    </tr></thead><tbody>\n",
       "                <tr>\n",
       "                                <td id=\"T_0c2c20d2_be0c_11ea_a3e3_acbc32b848f1row0_col0\" class=\"data row0 col0\" >0–3</td>\n",
       "                        <td id=\"T_0c2c20d2_be0c_11ea_a3e3_acbc32b848f1row0_col1\" class=\"data row0 col1\" >11.00%</td>\n",
       "            </tr>\n",
       "            <tr>\n",
       "                                <td id=\"T_0c2c20d2_be0c_11ea_a3e3_acbc32b848f1row1_col0\" class=\"data row1 col0\" >1–2</td>\n",
       "                        <td id=\"T_0c2c20d2_be0c_11ea_a3e3_acbc32b848f1row1_col1\" class=\"data row1 col1\" >39.00%</td>\n",
       "            </tr>\n",
       "            <tr>\n",
       "                                <td id=\"T_0c2c20d2_be0c_11ea_a3e3_acbc32b848f1row2_col0\" class=\"data row2 col0\" >2–1</td>\n",
       "                        <td id=\"T_0c2c20d2_be0c_11ea_a3e3_acbc32b848f1row2_col1\" class=\"data row2 col1\" >39.00%</td>\n",
       "            </tr>\n",
       "            <tr>\n",
       "                                <td id=\"T_0c2c20d2_be0c_11ea_a3e3_acbc32b848f1row3_col0\" class=\"data row3 col0\" >3–0</td>\n",
       "                        <td id=\"T_0c2c20d2_be0c_11ea_a3e3_acbc32b848f1row3_col1\" class=\"data row3 col1\" >11.00%</td>\n",
       "            </tr>\n",
       "    </tbody></table>"
      ],
      "text/plain": [
       "<pandas.io.formats.style.Styler at 0x7ff99a71b1f0>"
      ]
     },
     "metadata": {},
     "output_type": "display_data"
    },
    {
     "data": {
      "text/html": [
       "<style  type=\"text/css\" >\n",
       "    #T_0c2d27ac_be0c_11ea_a3e3_acbc32b848f1 th {\n",
       "          text-align: center;\n",
       "    }    #T_0c2d27ac_be0c_11ea_a3e3_acbc32b848f1 caption {\n",
       "          font-weight: bold;\n",
       "          font-style: italic;\n",
       "          font-size: 110%;\n",
       "          text-align: center;\n",
       "    }    #T_0c2d27ac_be0c_11ea_a3e3_acbc32b848f1row0_col0 {\n",
       "            width:  20em;\n",
       "            text-align:  center;\n",
       "        }    #T_0c2d27ac_be0c_11ea_a3e3_acbc32b848f1row0_col1 {\n",
       "            width:  20em;\n",
       "            text-align:  center;\n",
       "        }    #T_0c2d27ac_be0c_11ea_a3e3_acbc32b848f1row1_col0 {\n",
       "            width:  20em;\n",
       "            text-align:  center;\n",
       "        }    #T_0c2d27ac_be0c_11ea_a3e3_acbc32b848f1row1_col1 {\n",
       "            width:  20em;\n",
       "            text-align:  center;\n",
       "        }    #T_0c2d27ac_be0c_11ea_a3e3_acbc32b848f1row2_col0 {\n",
       "            width:  20em;\n",
       "            text-align:  center;\n",
       "        }    #T_0c2d27ac_be0c_11ea_a3e3_acbc32b848f1row2_col1 {\n",
       "            width:  20em;\n",
       "            text-align:  center;\n",
       "        }    #T_0c2d27ac_be0c_11ea_a3e3_acbc32b848f1row3_col0 {\n",
       "            width:  20em;\n",
       "            text-align:  center;\n",
       "        }    #T_0c2d27ac_be0c_11ea_a3e3_acbc32b848f1row3_col1 {\n",
       "            width:  20em;\n",
       "            text-align:  center;\n",
       "        }    #T_0c2d27ac_be0c_11ea_a3e3_acbc32b848f1row4_col0 {\n",
       "            width:  20em;\n",
       "            text-align:  center;\n",
       "        }    #T_0c2d27ac_be0c_11ea_a3e3_acbc32b848f1row4_col1 {\n",
       "            width:  20em;\n",
       "            text-align:  center;\n",
       "        }</style><table id=\"T_0c2d27ac_be0c_11ea_a3e3_acbc32b848f1\" ><caption>Break Probabilities for 4 Missing Cards</caption><thead>    <tr>        <th class=\"col_heading level0 col0\" >Break</th>        <th class=\"col_heading level0 col1\" >Probability</th>    </tr></thead><tbody>\n",
       "                <tr>\n",
       "                                <td id=\"T_0c2d27ac_be0c_11ea_a3e3_acbc32b848f1row0_col0\" class=\"data row0 col0\" >0–4</td>\n",
       "                        <td id=\"T_0c2d27ac_be0c_11ea_a3e3_acbc32b848f1row0_col1\" class=\"data row0 col1\" >4.78%</td>\n",
       "            </tr>\n",
       "            <tr>\n",
       "                                <td id=\"T_0c2d27ac_be0c_11ea_a3e3_acbc32b848f1row1_col0\" class=\"data row1 col0\" >1–3</td>\n",
       "                        <td id=\"T_0c2d27ac_be0c_11ea_a3e3_acbc32b848f1row1_col1\" class=\"data row1 col1\" >24.87%</td>\n",
       "            </tr>\n",
       "            <tr>\n",
       "                                <td id=\"T_0c2d27ac_be0c_11ea_a3e3_acbc32b848f1row2_col0\" class=\"data row2 col0\" >2–2</td>\n",
       "                        <td id=\"T_0c2d27ac_be0c_11ea_a3e3_acbc32b848f1row2_col1\" class=\"data row2 col1\" >40.70%</td>\n",
       "            </tr>\n",
       "            <tr>\n",
       "                                <td id=\"T_0c2d27ac_be0c_11ea_a3e3_acbc32b848f1row3_col0\" class=\"data row3 col0\" >3–1</td>\n",
       "                        <td id=\"T_0c2d27ac_be0c_11ea_a3e3_acbc32b848f1row3_col1\" class=\"data row3 col1\" >24.87%</td>\n",
       "            </tr>\n",
       "            <tr>\n",
       "                                <td id=\"T_0c2d27ac_be0c_11ea_a3e3_acbc32b848f1row4_col0\" class=\"data row4 col0\" >4–0</td>\n",
       "                        <td id=\"T_0c2d27ac_be0c_11ea_a3e3_acbc32b848f1row4_col1\" class=\"data row4 col1\" >4.78%</td>\n",
       "            </tr>\n",
       "    </tbody></table>"
      ],
      "text/plain": [
       "<pandas.io.formats.style.Styler at 0x7ff99a721850>"
      ]
     },
     "metadata": {},
     "output_type": "display_data"
    },
    {
     "data": {
      "text/html": [
       "<style  type=\"text/css\" >\n",
       "    #T_0c2e3ed0_be0c_11ea_a3e3_acbc32b848f1 th {\n",
       "          text-align: center;\n",
       "    }    #T_0c2e3ed0_be0c_11ea_a3e3_acbc32b848f1 caption {\n",
       "          font-weight: bold;\n",
       "          font-style: italic;\n",
       "          font-size: 110%;\n",
       "          text-align: center;\n",
       "    }    #T_0c2e3ed0_be0c_11ea_a3e3_acbc32b848f1row0_col0 {\n",
       "            width:  20em;\n",
       "            text-align:  center;\n",
       "        }    #T_0c2e3ed0_be0c_11ea_a3e3_acbc32b848f1row0_col1 {\n",
       "            width:  20em;\n",
       "            text-align:  center;\n",
       "        }    #T_0c2e3ed0_be0c_11ea_a3e3_acbc32b848f1row1_col0 {\n",
       "            width:  20em;\n",
       "            text-align:  center;\n",
       "        }    #T_0c2e3ed0_be0c_11ea_a3e3_acbc32b848f1row1_col1 {\n",
       "            width:  20em;\n",
       "            text-align:  center;\n",
       "        }    #T_0c2e3ed0_be0c_11ea_a3e3_acbc32b848f1row2_col0 {\n",
       "            width:  20em;\n",
       "            text-align:  center;\n",
       "        }    #T_0c2e3ed0_be0c_11ea_a3e3_acbc32b848f1row2_col1 {\n",
       "            width:  20em;\n",
       "            text-align:  center;\n",
       "        }    #T_0c2e3ed0_be0c_11ea_a3e3_acbc32b848f1row3_col0 {\n",
       "            width:  20em;\n",
       "            text-align:  center;\n",
       "        }    #T_0c2e3ed0_be0c_11ea_a3e3_acbc32b848f1row3_col1 {\n",
       "            width:  20em;\n",
       "            text-align:  center;\n",
       "        }    #T_0c2e3ed0_be0c_11ea_a3e3_acbc32b848f1row4_col0 {\n",
       "            width:  20em;\n",
       "            text-align:  center;\n",
       "        }    #T_0c2e3ed0_be0c_11ea_a3e3_acbc32b848f1row4_col1 {\n",
       "            width:  20em;\n",
       "            text-align:  center;\n",
       "        }    #T_0c2e3ed0_be0c_11ea_a3e3_acbc32b848f1row5_col0 {\n",
       "            width:  20em;\n",
       "            text-align:  center;\n",
       "        }    #T_0c2e3ed0_be0c_11ea_a3e3_acbc32b848f1row5_col1 {\n",
       "            width:  20em;\n",
       "            text-align:  center;\n",
       "        }</style><table id=\"T_0c2e3ed0_be0c_11ea_a3e3_acbc32b848f1\" ><caption>Break Probabilities for 5 Missing Cards</caption><thead>    <tr>        <th class=\"col_heading level0 col0\" >Break</th>        <th class=\"col_heading level0 col1\" >Probability</th>    </tr></thead><tbody>\n",
       "                <tr>\n",
       "                                <td id=\"T_0c2e3ed0_be0c_11ea_a3e3_acbc32b848f1row0_col0\" class=\"data row0 col0\" >0–5</td>\n",
       "                        <td id=\"T_0c2e3ed0_be0c_11ea_a3e3_acbc32b848f1row0_col1\" class=\"data row0 col1\" >1.96%</td>\n",
       "            </tr>\n",
       "            <tr>\n",
       "                                <td id=\"T_0c2e3ed0_be0c_11ea_a3e3_acbc32b848f1row1_col0\" class=\"data row1 col0\" >1–4</td>\n",
       "                        <td id=\"T_0c2e3ed0_be0c_11ea_a3e3_acbc32b848f1row1_col1\" class=\"data row1 col1\" >14.13%</td>\n",
       "            </tr>\n",
       "            <tr>\n",
       "                                <td id=\"T_0c2e3ed0_be0c_11ea_a3e3_acbc32b848f1row2_col0\" class=\"data row2 col0\" >2–3</td>\n",
       "                        <td id=\"T_0c2e3ed0_be0c_11ea_a3e3_acbc32b848f1row2_col1\" class=\"data row2 col1\" >33.91%</td>\n",
       "            </tr>\n",
       "            <tr>\n",
       "                                <td id=\"T_0c2e3ed0_be0c_11ea_a3e3_acbc32b848f1row3_col0\" class=\"data row3 col0\" >3–2</td>\n",
       "                        <td id=\"T_0c2e3ed0_be0c_11ea_a3e3_acbc32b848f1row3_col1\" class=\"data row3 col1\" >33.91%</td>\n",
       "            </tr>\n",
       "            <tr>\n",
       "                                <td id=\"T_0c2e3ed0_be0c_11ea_a3e3_acbc32b848f1row4_col0\" class=\"data row4 col0\" >4–1</td>\n",
       "                        <td id=\"T_0c2e3ed0_be0c_11ea_a3e3_acbc32b848f1row4_col1\" class=\"data row4 col1\" >14.13%</td>\n",
       "            </tr>\n",
       "            <tr>\n",
       "                                <td id=\"T_0c2e3ed0_be0c_11ea_a3e3_acbc32b848f1row5_col0\" class=\"data row5 col0\" >5–0</td>\n",
       "                        <td id=\"T_0c2e3ed0_be0c_11ea_a3e3_acbc32b848f1row5_col1\" class=\"data row5 col1\" >1.96%</td>\n",
       "            </tr>\n",
       "    </tbody></table>"
      ],
      "text/plain": [
       "<pandas.io.formats.style.Styler at 0x7ff99a721970>"
      ]
     },
     "metadata": {},
     "output_type": "display_data"
    },
    {
     "data": {
      "text/html": [
       "<style  type=\"text/css\" >\n",
       "    #T_0c2f5cfc_be0c_11ea_a3e3_acbc32b848f1 th {\n",
       "          text-align: center;\n",
       "    }    #T_0c2f5cfc_be0c_11ea_a3e3_acbc32b848f1 caption {\n",
       "          font-weight: bold;\n",
       "          font-style: italic;\n",
       "          font-size: 110%;\n",
       "          text-align: center;\n",
       "    }    #T_0c2f5cfc_be0c_11ea_a3e3_acbc32b848f1row0_col0 {\n",
       "            width:  20em;\n",
       "            text-align:  center;\n",
       "        }    #T_0c2f5cfc_be0c_11ea_a3e3_acbc32b848f1row0_col1 {\n",
       "            width:  20em;\n",
       "            text-align:  center;\n",
       "        }    #T_0c2f5cfc_be0c_11ea_a3e3_acbc32b848f1row1_col0 {\n",
       "            width:  20em;\n",
       "            text-align:  center;\n",
       "        }    #T_0c2f5cfc_be0c_11ea_a3e3_acbc32b848f1row1_col1 {\n",
       "            width:  20em;\n",
       "            text-align:  center;\n",
       "        }    #T_0c2f5cfc_be0c_11ea_a3e3_acbc32b848f1row2_col0 {\n",
       "            width:  20em;\n",
       "            text-align:  center;\n",
       "        }    #T_0c2f5cfc_be0c_11ea_a3e3_acbc32b848f1row2_col1 {\n",
       "            width:  20em;\n",
       "            text-align:  center;\n",
       "        }    #T_0c2f5cfc_be0c_11ea_a3e3_acbc32b848f1row3_col0 {\n",
       "            width:  20em;\n",
       "            text-align:  center;\n",
       "        }    #T_0c2f5cfc_be0c_11ea_a3e3_acbc32b848f1row3_col1 {\n",
       "            width:  20em;\n",
       "            text-align:  center;\n",
       "        }    #T_0c2f5cfc_be0c_11ea_a3e3_acbc32b848f1row4_col0 {\n",
       "            width:  20em;\n",
       "            text-align:  center;\n",
       "        }    #T_0c2f5cfc_be0c_11ea_a3e3_acbc32b848f1row4_col1 {\n",
       "            width:  20em;\n",
       "            text-align:  center;\n",
       "        }    #T_0c2f5cfc_be0c_11ea_a3e3_acbc32b848f1row5_col0 {\n",
       "            width:  20em;\n",
       "            text-align:  center;\n",
       "        }    #T_0c2f5cfc_be0c_11ea_a3e3_acbc32b848f1row5_col1 {\n",
       "            width:  20em;\n",
       "            text-align:  center;\n",
       "        }    #T_0c2f5cfc_be0c_11ea_a3e3_acbc32b848f1row6_col0 {\n",
       "            width:  20em;\n",
       "            text-align:  center;\n",
       "        }    #T_0c2f5cfc_be0c_11ea_a3e3_acbc32b848f1row6_col1 {\n",
       "            width:  20em;\n",
       "            text-align:  center;\n",
       "        }</style><table id=\"T_0c2f5cfc_be0c_11ea_a3e3_acbc32b848f1\" ><caption>Break Probabilities for 6 Missing Cards</caption><thead>    <tr>        <th class=\"col_heading level0 col0\" >Break</th>        <th class=\"col_heading level0 col1\" >Probability</th>    </tr></thead><tbody>\n",
       "                <tr>\n",
       "                                <td id=\"T_0c2f5cfc_be0c_11ea_a3e3_acbc32b848f1row0_col0\" class=\"data row0 col0\" >0–6</td>\n",
       "                        <td id=\"T_0c2f5cfc_be0c_11ea_a3e3_acbc32b848f1row0_col1\" class=\"data row0 col1\" >0.75%</td>\n",
       "            </tr>\n",
       "            <tr>\n",
       "                                <td id=\"T_0c2f5cfc_be0c_11ea_a3e3_acbc32b848f1row1_col0\" class=\"data row1 col0\" >1–5</td>\n",
       "                        <td id=\"T_0c2f5cfc_be0c_11ea_a3e3_acbc32b848f1row1_col1\" class=\"data row1 col1\" >7.27%</td>\n",
       "            </tr>\n",
       "            <tr>\n",
       "                                <td id=\"T_0c2f5cfc_be0c_11ea_a3e3_acbc32b848f1row2_col0\" class=\"data row2 col0\" >2–4</td>\n",
       "                        <td id=\"T_0c2f5cfc_be0c_11ea_a3e3_acbc32b848f1row2_col1\" class=\"data row2 col1\" >24.22%</td>\n",
       "            </tr>\n",
       "            <tr>\n",
       "                                <td id=\"T_0c2f5cfc_be0c_11ea_a3e3_acbc32b848f1row3_col0\" class=\"data row3 col0\" >3–3</td>\n",
       "                        <td id=\"T_0c2f5cfc_be0c_11ea_a3e3_acbc32b848f1row3_col1\" class=\"data row3 col1\" >35.53%</td>\n",
       "            </tr>\n",
       "            <tr>\n",
       "                                <td id=\"T_0c2f5cfc_be0c_11ea_a3e3_acbc32b848f1row4_col0\" class=\"data row4 col0\" >4–2</td>\n",
       "                        <td id=\"T_0c2f5cfc_be0c_11ea_a3e3_acbc32b848f1row4_col1\" class=\"data row4 col1\" >24.22%</td>\n",
       "            </tr>\n",
       "            <tr>\n",
       "                                <td id=\"T_0c2f5cfc_be0c_11ea_a3e3_acbc32b848f1row5_col0\" class=\"data row5 col0\" >5–1</td>\n",
       "                        <td id=\"T_0c2f5cfc_be0c_11ea_a3e3_acbc32b848f1row5_col1\" class=\"data row5 col1\" >7.27%</td>\n",
       "            </tr>\n",
       "            <tr>\n",
       "                                <td id=\"T_0c2f5cfc_be0c_11ea_a3e3_acbc32b848f1row6_col0\" class=\"data row6 col0\" >6–0</td>\n",
       "                        <td id=\"T_0c2f5cfc_be0c_11ea_a3e3_acbc32b848f1row6_col1\" class=\"data row6 col1\" >0.75%</td>\n",
       "            </tr>\n",
       "    </tbody></table>"
      ],
      "text/plain": [
       "<pandas.io.formats.style.Styler at 0x7ff997032040>"
      ]
     },
     "metadata": {},
     "output_type": "display_data"
    },
    {
     "data": {
      "text/html": [
       "<style  type=\"text/css\" >\n",
       "    #T_0c308c1c_be0c_11ea_a3e3_acbc32b848f1 th {\n",
       "          text-align: center;\n",
       "    }    #T_0c308c1c_be0c_11ea_a3e3_acbc32b848f1 caption {\n",
       "          font-weight: bold;\n",
       "          font-style: italic;\n",
       "          font-size: 110%;\n",
       "          text-align: center;\n",
       "    }    #T_0c308c1c_be0c_11ea_a3e3_acbc32b848f1row0_col0 {\n",
       "            width:  20em;\n",
       "            text-align:  center;\n",
       "        }    #T_0c308c1c_be0c_11ea_a3e3_acbc32b848f1row0_col1 {\n",
       "            width:  20em;\n",
       "            text-align:  center;\n",
       "        }    #T_0c308c1c_be0c_11ea_a3e3_acbc32b848f1row1_col0 {\n",
       "            width:  20em;\n",
       "            text-align:  center;\n",
       "        }    #T_0c308c1c_be0c_11ea_a3e3_acbc32b848f1row1_col1 {\n",
       "            width:  20em;\n",
       "            text-align:  center;\n",
       "        }    #T_0c308c1c_be0c_11ea_a3e3_acbc32b848f1row2_col0 {\n",
       "            width:  20em;\n",
       "            text-align:  center;\n",
       "        }    #T_0c308c1c_be0c_11ea_a3e3_acbc32b848f1row2_col1 {\n",
       "            width:  20em;\n",
       "            text-align:  center;\n",
       "        }    #T_0c308c1c_be0c_11ea_a3e3_acbc32b848f1row3_col0 {\n",
       "            width:  20em;\n",
       "            text-align:  center;\n",
       "        }    #T_0c308c1c_be0c_11ea_a3e3_acbc32b848f1row3_col1 {\n",
       "            width:  20em;\n",
       "            text-align:  center;\n",
       "        }    #T_0c308c1c_be0c_11ea_a3e3_acbc32b848f1row4_col0 {\n",
       "            width:  20em;\n",
       "            text-align:  center;\n",
       "        }    #T_0c308c1c_be0c_11ea_a3e3_acbc32b848f1row4_col1 {\n",
       "            width:  20em;\n",
       "            text-align:  center;\n",
       "        }    #T_0c308c1c_be0c_11ea_a3e3_acbc32b848f1row5_col0 {\n",
       "            width:  20em;\n",
       "            text-align:  center;\n",
       "        }    #T_0c308c1c_be0c_11ea_a3e3_acbc32b848f1row5_col1 {\n",
       "            width:  20em;\n",
       "            text-align:  center;\n",
       "        }    #T_0c308c1c_be0c_11ea_a3e3_acbc32b848f1row6_col0 {\n",
       "            width:  20em;\n",
       "            text-align:  center;\n",
       "        }    #T_0c308c1c_be0c_11ea_a3e3_acbc32b848f1row6_col1 {\n",
       "            width:  20em;\n",
       "            text-align:  center;\n",
       "        }    #T_0c308c1c_be0c_11ea_a3e3_acbc32b848f1row7_col0 {\n",
       "            width:  20em;\n",
       "            text-align:  center;\n",
       "        }    #T_0c308c1c_be0c_11ea_a3e3_acbc32b848f1row7_col1 {\n",
       "            width:  20em;\n",
       "            text-align:  center;\n",
       "        }</style><table id=\"T_0c308c1c_be0c_11ea_a3e3_acbc32b848f1\" ><caption>Break Probabilities for 7 Missing Cards</caption><thead>    <tr>        <th class=\"col_heading level0 col0\" >Break</th>        <th class=\"col_heading level0 col1\" >Probability</th>    </tr></thead><tbody>\n",
       "                <tr>\n",
       "                                <td id=\"T_0c308c1c_be0c_11ea_a3e3_acbc32b848f1row0_col0\" class=\"data row0 col0\" >0–7</td>\n",
       "                        <td id=\"T_0c308c1c_be0c_11ea_a3e3_acbc32b848f1row0_col1\" class=\"data row0 col1\" >0.26%</td>\n",
       "            </tr>\n",
       "            <tr>\n",
       "                                <td id=\"T_0c308c1c_be0c_11ea_a3e3_acbc32b848f1row1_col0\" class=\"data row1 col0\" >1–6</td>\n",
       "                        <td id=\"T_0c308c1c_be0c_11ea_a3e3_acbc32b848f1row1_col1\" class=\"data row1 col1\" >3.39%</td>\n",
       "            </tr>\n",
       "            <tr>\n",
       "                                <td id=\"T_0c308c1c_be0c_11ea_a3e3_acbc32b848f1row2_col0\" class=\"data row2 col0\" >2–5</td>\n",
       "                        <td id=\"T_0c308c1c_be0c_11ea_a3e3_acbc32b848f1row2_col1\" class=\"data row2 col1\" >15.26%</td>\n",
       "            </tr>\n",
       "            <tr>\n",
       "                                <td id=\"T_0c308c1c_be0c_11ea_a3e3_acbc32b848f1row3_col0\" class=\"data row3 col0\" >3–4</td>\n",
       "                        <td id=\"T_0c308c1c_be0c_11ea_a3e3_acbc32b848f1row3_col1\" class=\"data row3 col1\" >31.09%</td>\n",
       "            </tr>\n",
       "            <tr>\n",
       "                                <td id=\"T_0c308c1c_be0c_11ea_a3e3_acbc32b848f1row4_col0\" class=\"data row4 col0\" >4–3</td>\n",
       "                        <td id=\"T_0c308c1c_be0c_11ea_a3e3_acbc32b848f1row4_col1\" class=\"data row4 col1\" >31.09%</td>\n",
       "            </tr>\n",
       "            <tr>\n",
       "                                <td id=\"T_0c308c1c_be0c_11ea_a3e3_acbc32b848f1row5_col0\" class=\"data row5 col0\" >5–2</td>\n",
       "                        <td id=\"T_0c308c1c_be0c_11ea_a3e3_acbc32b848f1row5_col1\" class=\"data row5 col1\" >15.26%</td>\n",
       "            </tr>\n",
       "            <tr>\n",
       "                                <td id=\"T_0c308c1c_be0c_11ea_a3e3_acbc32b848f1row6_col0\" class=\"data row6 col0\" >6–1</td>\n",
       "                        <td id=\"T_0c308c1c_be0c_11ea_a3e3_acbc32b848f1row6_col1\" class=\"data row6 col1\" >3.39%</td>\n",
       "            </tr>\n",
       "            <tr>\n",
       "                                <td id=\"T_0c308c1c_be0c_11ea_a3e3_acbc32b848f1row7_col0\" class=\"data row7 col0\" >7–0</td>\n",
       "                        <td id=\"T_0c308c1c_be0c_11ea_a3e3_acbc32b848f1row7_col1\" class=\"data row7 col1\" >0.26%</td>\n",
       "            </tr>\n",
       "    </tbody></table>"
      ],
      "text/plain": [
       "<pandas.io.formats.style.Styler at 0x7ff99a721a30>"
      ]
     },
     "metadata": {},
     "output_type": "display_data"
    },
    {
     "data": {
      "text/html": [
       "<style  type=\"text/css\" >\n",
       "    #T_0c321582_be0c_11ea_a3e3_acbc32b848f1 th {\n",
       "          text-align: center;\n",
       "    }    #T_0c321582_be0c_11ea_a3e3_acbc32b848f1 caption {\n",
       "          font-weight: bold;\n",
       "          font-style: italic;\n",
       "          font-size: 110%;\n",
       "          text-align: center;\n",
       "    }    #T_0c321582_be0c_11ea_a3e3_acbc32b848f1row0_col0 {\n",
       "            width:  20em;\n",
       "            text-align:  center;\n",
       "        }    #T_0c321582_be0c_11ea_a3e3_acbc32b848f1row0_col1 {\n",
       "            width:  20em;\n",
       "            text-align:  center;\n",
       "        }    #T_0c321582_be0c_11ea_a3e3_acbc32b848f1row1_col0 {\n",
       "            width:  20em;\n",
       "            text-align:  center;\n",
       "        }    #T_0c321582_be0c_11ea_a3e3_acbc32b848f1row1_col1 {\n",
       "            width:  20em;\n",
       "            text-align:  center;\n",
       "        }    #T_0c321582_be0c_11ea_a3e3_acbc32b848f1row2_col0 {\n",
       "            width:  20em;\n",
       "            text-align:  center;\n",
       "        }    #T_0c321582_be0c_11ea_a3e3_acbc32b848f1row2_col1 {\n",
       "            width:  20em;\n",
       "            text-align:  center;\n",
       "        }    #T_0c321582_be0c_11ea_a3e3_acbc32b848f1row3_col0 {\n",
       "            width:  20em;\n",
       "            text-align:  center;\n",
       "        }    #T_0c321582_be0c_11ea_a3e3_acbc32b848f1row3_col1 {\n",
       "            width:  20em;\n",
       "            text-align:  center;\n",
       "        }    #T_0c321582_be0c_11ea_a3e3_acbc32b848f1row4_col0 {\n",
       "            width:  20em;\n",
       "            text-align:  center;\n",
       "        }    #T_0c321582_be0c_11ea_a3e3_acbc32b848f1row4_col1 {\n",
       "            width:  20em;\n",
       "            text-align:  center;\n",
       "        }    #T_0c321582_be0c_11ea_a3e3_acbc32b848f1row5_col0 {\n",
       "            width:  20em;\n",
       "            text-align:  center;\n",
       "        }    #T_0c321582_be0c_11ea_a3e3_acbc32b848f1row5_col1 {\n",
       "            width:  20em;\n",
       "            text-align:  center;\n",
       "        }    #T_0c321582_be0c_11ea_a3e3_acbc32b848f1row6_col0 {\n",
       "            width:  20em;\n",
       "            text-align:  center;\n",
       "        }    #T_0c321582_be0c_11ea_a3e3_acbc32b848f1row6_col1 {\n",
       "            width:  20em;\n",
       "            text-align:  center;\n",
       "        }    #T_0c321582_be0c_11ea_a3e3_acbc32b848f1row7_col0 {\n",
       "            width:  20em;\n",
       "            text-align:  center;\n",
       "        }    #T_0c321582_be0c_11ea_a3e3_acbc32b848f1row7_col1 {\n",
       "            width:  20em;\n",
       "            text-align:  center;\n",
       "        }    #T_0c321582_be0c_11ea_a3e3_acbc32b848f1row8_col0 {\n",
       "            width:  20em;\n",
       "            text-align:  center;\n",
       "        }    #T_0c321582_be0c_11ea_a3e3_acbc32b848f1row8_col1 {\n",
       "            width:  20em;\n",
       "            text-align:  center;\n",
       "        }</style><table id=\"T_0c321582_be0c_11ea_a3e3_acbc32b848f1\" ><caption>Break Probabilities for 8 Missing Cards</caption><thead>    <tr>        <th class=\"col_heading level0 col0\" >Break</th>        <th class=\"col_heading level0 col1\" >Probability</th>    </tr></thead><tbody>\n",
       "                <tr>\n",
       "                                <td id=\"T_0c321582_be0c_11ea_a3e3_acbc32b848f1row0_col0\" class=\"data row0 col0\" >0–8</td>\n",
       "                        <td id=\"T_0c321582_be0c_11ea_a3e3_acbc32b848f1row0_col1\" class=\"data row0 col1\" >0.08%</td>\n",
       "            </tr>\n",
       "            <tr>\n",
       "                                <td id=\"T_0c321582_be0c_11ea_a3e3_acbc32b848f1row1_col0\" class=\"data row1 col0\" >1–7</td>\n",
       "                        <td id=\"T_0c321582_be0c_11ea_a3e3_acbc32b848f1row1_col1\" class=\"data row1 col1\" >1.43%</td>\n",
       "            </tr>\n",
       "            <tr>\n",
       "                                <td id=\"T_0c321582_be0c_11ea_a3e3_acbc32b848f1row2_col0\" class=\"data row2 col0\" >2–6</td>\n",
       "                        <td id=\"T_0c321582_be0c_11ea_a3e3_acbc32b848f1row2_col1\" class=\"data row2 col1\" >8.57%</td>\n",
       "            </tr>\n",
       "            <tr>\n",
       "                                <td id=\"T_0c321582_be0c_11ea_a3e3_acbc32b848f1row3_col0\" class=\"data row3 col0\" >3–5</td>\n",
       "                        <td id=\"T_0c321582_be0c_11ea_a3e3_acbc32b848f1row3_col1\" class=\"data row3 col1\" >23.56%</td>\n",
       "            </tr>\n",
       "            <tr>\n",
       "                                <td id=\"T_0c321582_be0c_11ea_a3e3_acbc32b848f1row4_col0\" class=\"data row4 col0\" >4–4</td>\n",
       "                        <td id=\"T_0c321582_be0c_11ea_a3e3_acbc32b848f1row4_col1\" class=\"data row4 col1\" >32.72%</td>\n",
       "            </tr>\n",
       "            <tr>\n",
       "                                <td id=\"T_0c321582_be0c_11ea_a3e3_acbc32b848f1row5_col0\" class=\"data row5 col0\" >5–3</td>\n",
       "                        <td id=\"T_0c321582_be0c_11ea_a3e3_acbc32b848f1row5_col1\" class=\"data row5 col1\" >23.56%</td>\n",
       "            </tr>\n",
       "            <tr>\n",
       "                                <td id=\"T_0c321582_be0c_11ea_a3e3_acbc32b848f1row6_col0\" class=\"data row6 col0\" >6–2</td>\n",
       "                        <td id=\"T_0c321582_be0c_11ea_a3e3_acbc32b848f1row6_col1\" class=\"data row6 col1\" >8.57%</td>\n",
       "            </tr>\n",
       "            <tr>\n",
       "                                <td id=\"T_0c321582_be0c_11ea_a3e3_acbc32b848f1row7_col0\" class=\"data row7 col0\" >7–1</td>\n",
       "                        <td id=\"T_0c321582_be0c_11ea_a3e3_acbc32b848f1row7_col1\" class=\"data row7 col1\" >1.43%</td>\n",
       "            </tr>\n",
       "            <tr>\n",
       "                                <td id=\"T_0c321582_be0c_11ea_a3e3_acbc32b848f1row8_col0\" class=\"data row8 col0\" >8–0</td>\n",
       "                        <td id=\"T_0c321582_be0c_11ea_a3e3_acbc32b848f1row8_col1\" class=\"data row8 col1\" >0.08%</td>\n",
       "            </tr>\n",
       "    </tbody></table>"
      ],
      "text/plain": [
       "<pandas.io.formats.style.Styler at 0x7ff99a71b250>"
      ]
     },
     "metadata": {},
     "output_type": "display_data"
    },
    {
     "data": {
      "text/html": [
       "<style  type=\"text/css\" >\n",
       "    #T_0c338994_be0c_11ea_a3e3_acbc32b848f1 th {\n",
       "          text-align: center;\n",
       "    }    #T_0c338994_be0c_11ea_a3e3_acbc32b848f1 caption {\n",
       "          font-weight: bold;\n",
       "          font-style: italic;\n",
       "          font-size: 110%;\n",
       "          text-align: center;\n",
       "    }    #T_0c338994_be0c_11ea_a3e3_acbc32b848f1row0_col0 {\n",
       "            width:  20em;\n",
       "            text-align:  center;\n",
       "        }    #T_0c338994_be0c_11ea_a3e3_acbc32b848f1row0_col1 {\n",
       "            width:  20em;\n",
       "            text-align:  center;\n",
       "        }    #T_0c338994_be0c_11ea_a3e3_acbc32b848f1row1_col0 {\n",
       "            width:  20em;\n",
       "            text-align:  center;\n",
       "        }    #T_0c338994_be0c_11ea_a3e3_acbc32b848f1row1_col1 {\n",
       "            width:  20em;\n",
       "            text-align:  center;\n",
       "        }    #T_0c338994_be0c_11ea_a3e3_acbc32b848f1row2_col0 {\n",
       "            width:  20em;\n",
       "            text-align:  center;\n",
       "        }    #T_0c338994_be0c_11ea_a3e3_acbc32b848f1row2_col1 {\n",
       "            width:  20em;\n",
       "            text-align:  center;\n",
       "        }    #T_0c338994_be0c_11ea_a3e3_acbc32b848f1row3_col0 {\n",
       "            width:  20em;\n",
       "            text-align:  center;\n",
       "        }    #T_0c338994_be0c_11ea_a3e3_acbc32b848f1row3_col1 {\n",
       "            width:  20em;\n",
       "            text-align:  center;\n",
       "        }    #T_0c338994_be0c_11ea_a3e3_acbc32b848f1row4_col0 {\n",
       "            width:  20em;\n",
       "            text-align:  center;\n",
       "        }    #T_0c338994_be0c_11ea_a3e3_acbc32b848f1row4_col1 {\n",
       "            width:  20em;\n",
       "            text-align:  center;\n",
       "        }    #T_0c338994_be0c_11ea_a3e3_acbc32b848f1row5_col0 {\n",
       "            width:  20em;\n",
       "            text-align:  center;\n",
       "        }    #T_0c338994_be0c_11ea_a3e3_acbc32b848f1row5_col1 {\n",
       "            width:  20em;\n",
       "            text-align:  center;\n",
       "        }    #T_0c338994_be0c_11ea_a3e3_acbc32b848f1row6_col0 {\n",
       "            width:  20em;\n",
       "            text-align:  center;\n",
       "        }    #T_0c338994_be0c_11ea_a3e3_acbc32b848f1row6_col1 {\n",
       "            width:  20em;\n",
       "            text-align:  center;\n",
       "        }    #T_0c338994_be0c_11ea_a3e3_acbc32b848f1row7_col0 {\n",
       "            width:  20em;\n",
       "            text-align:  center;\n",
       "        }    #T_0c338994_be0c_11ea_a3e3_acbc32b848f1row7_col1 {\n",
       "            width:  20em;\n",
       "            text-align:  center;\n",
       "        }    #T_0c338994_be0c_11ea_a3e3_acbc32b848f1row8_col0 {\n",
       "            width:  20em;\n",
       "            text-align:  center;\n",
       "        }    #T_0c338994_be0c_11ea_a3e3_acbc32b848f1row8_col1 {\n",
       "            width:  20em;\n",
       "            text-align:  center;\n",
       "        }    #T_0c338994_be0c_11ea_a3e3_acbc32b848f1row9_col0 {\n",
       "            width:  20em;\n",
       "            text-align:  center;\n",
       "        }    #T_0c338994_be0c_11ea_a3e3_acbc32b848f1row9_col1 {\n",
       "            width:  20em;\n",
       "            text-align:  center;\n",
       "        }</style><table id=\"T_0c338994_be0c_11ea_a3e3_acbc32b848f1\" ><caption>Break Probabilities for 9 Missing Cards</caption><thead>    <tr>        <th class=\"col_heading level0 col0\" >Break</th>        <th class=\"col_heading level0 col1\" >Probability</th>    </tr></thead><tbody>\n",
       "                <tr>\n",
       "                                <td id=\"T_0c338994_be0c_11ea_a3e3_acbc32b848f1row0_col0\" class=\"data row0 col0\" >0–9</td>\n",
       "                        <td id=\"T_0c338994_be0c_11ea_a3e3_acbc32b848f1row0_col1\" class=\"data row0 col1\" >0.02%</td>\n",
       "            </tr>\n",
       "            <tr>\n",
       "                                <td id=\"T_0c338994_be0c_11ea_a3e3_acbc32b848f1row1_col0\" class=\"data row1 col0\" >1–8</td>\n",
       "                        <td id=\"T_0c338994_be0c_11ea_a3e3_acbc32b848f1row1_col1\" class=\"data row1 col1\" >0.54%</td>\n",
       "            </tr>\n",
       "            <tr>\n",
       "                                <td id=\"T_0c338994_be0c_11ea_a3e3_acbc32b848f1row2_col0\" class=\"data row2 col0\" >2–7</td>\n",
       "                        <td id=\"T_0c338994_be0c_11ea_a3e3_acbc32b848f1row2_col1\" class=\"data row2 col1\" >4.28%</td>\n",
       "            </tr>\n",
       "            <tr>\n",
       "                                <td id=\"T_0c338994_be0c_11ea_a3e3_acbc32b848f1row3_col0\" class=\"data row3 col0\" >3–6</td>\n",
       "                        <td id=\"T_0c338994_be0c_11ea_a3e3_acbc32b848f1row3_col1\" class=\"data row3 col1\" >15.71%</td>\n",
       "            </tr>\n",
       "            <tr>\n",
       "                                <td id=\"T_0c338994_be0c_11ea_a3e3_acbc32b848f1row4_col0\" class=\"data row4 col0\" >4–5</td>\n",
       "                        <td id=\"T_0c338994_be0c_11ea_a3e3_acbc32b848f1row4_col1\" class=\"data row4 col1\" >29.45%</td>\n",
       "            </tr>\n",
       "            <tr>\n",
       "                                <td id=\"T_0c338994_be0c_11ea_a3e3_acbc32b848f1row5_col0\" class=\"data row5 col0\" >5–4</td>\n",
       "                        <td id=\"T_0c338994_be0c_11ea_a3e3_acbc32b848f1row5_col1\" class=\"data row5 col1\" >29.45%</td>\n",
       "            </tr>\n",
       "            <tr>\n",
       "                                <td id=\"T_0c338994_be0c_11ea_a3e3_acbc32b848f1row6_col0\" class=\"data row6 col0\" >6–3</td>\n",
       "                        <td id=\"T_0c338994_be0c_11ea_a3e3_acbc32b848f1row6_col1\" class=\"data row6 col1\" >15.71%</td>\n",
       "            </tr>\n",
       "            <tr>\n",
       "                                <td id=\"T_0c338994_be0c_11ea_a3e3_acbc32b848f1row7_col0\" class=\"data row7 col0\" >7–2</td>\n",
       "                        <td id=\"T_0c338994_be0c_11ea_a3e3_acbc32b848f1row7_col1\" class=\"data row7 col1\" >4.28%</td>\n",
       "            </tr>\n",
       "            <tr>\n",
       "                                <td id=\"T_0c338994_be0c_11ea_a3e3_acbc32b848f1row8_col0\" class=\"data row8 col0\" >8–1</td>\n",
       "                        <td id=\"T_0c338994_be0c_11ea_a3e3_acbc32b848f1row8_col1\" class=\"data row8 col1\" >0.54%</td>\n",
       "            </tr>\n",
       "            <tr>\n",
       "                                <td id=\"T_0c338994_be0c_11ea_a3e3_acbc32b848f1row9_col0\" class=\"data row9 col0\" >9–0</td>\n",
       "                        <td id=\"T_0c338994_be0c_11ea_a3e3_acbc32b848f1row9_col1\" class=\"data row9 col1\" >0.02%</td>\n",
       "            </tr>\n",
       "    </tbody></table>"
      ],
      "text/plain": [
       "<pandas.io.formats.style.Styler at 0x7ff99a71bb80>"
      ]
     },
     "metadata": {},
     "output_type": "display_data"
    },
    {
     "data": {
      "text/html": [
       "<style  type=\"text/css\" >\n",
       "    #T_0c35987e_be0c_11ea_a3e3_acbc32b848f1 th {\n",
       "          text-align: center;\n",
       "    }    #T_0c35987e_be0c_11ea_a3e3_acbc32b848f1 caption {\n",
       "          font-weight: bold;\n",
       "          font-style: italic;\n",
       "          font-size: 110%;\n",
       "          text-align: center;\n",
       "    }    #T_0c35987e_be0c_11ea_a3e3_acbc32b848f1row0_col0 {\n",
       "            width:  20em;\n",
       "            text-align:  center;\n",
       "        }    #T_0c35987e_be0c_11ea_a3e3_acbc32b848f1row0_col1 {\n",
       "            width:  20em;\n",
       "            text-align:  center;\n",
       "        }    #T_0c35987e_be0c_11ea_a3e3_acbc32b848f1row1_col0 {\n",
       "            width:  20em;\n",
       "            text-align:  center;\n",
       "        }    #T_0c35987e_be0c_11ea_a3e3_acbc32b848f1row1_col1 {\n",
       "            width:  20em;\n",
       "            text-align:  center;\n",
       "        }    #T_0c35987e_be0c_11ea_a3e3_acbc32b848f1row2_col0 {\n",
       "            width:  20em;\n",
       "            text-align:  center;\n",
       "        }    #T_0c35987e_be0c_11ea_a3e3_acbc32b848f1row2_col1 {\n",
       "            width:  20em;\n",
       "            text-align:  center;\n",
       "        }    #T_0c35987e_be0c_11ea_a3e3_acbc32b848f1row3_col0 {\n",
       "            width:  20em;\n",
       "            text-align:  center;\n",
       "        }    #T_0c35987e_be0c_11ea_a3e3_acbc32b848f1row3_col1 {\n",
       "            width:  20em;\n",
       "            text-align:  center;\n",
       "        }    #T_0c35987e_be0c_11ea_a3e3_acbc32b848f1row4_col0 {\n",
       "            width:  20em;\n",
       "            text-align:  center;\n",
       "        }    #T_0c35987e_be0c_11ea_a3e3_acbc32b848f1row4_col1 {\n",
       "            width:  20em;\n",
       "            text-align:  center;\n",
       "        }    #T_0c35987e_be0c_11ea_a3e3_acbc32b848f1row5_col0 {\n",
       "            width:  20em;\n",
       "            text-align:  center;\n",
       "        }    #T_0c35987e_be0c_11ea_a3e3_acbc32b848f1row5_col1 {\n",
       "            width:  20em;\n",
       "            text-align:  center;\n",
       "        }    #T_0c35987e_be0c_11ea_a3e3_acbc32b848f1row6_col0 {\n",
       "            width:  20em;\n",
       "            text-align:  center;\n",
       "        }    #T_0c35987e_be0c_11ea_a3e3_acbc32b848f1row6_col1 {\n",
       "            width:  20em;\n",
       "            text-align:  center;\n",
       "        }    #T_0c35987e_be0c_11ea_a3e3_acbc32b848f1row7_col0 {\n",
       "            width:  20em;\n",
       "            text-align:  center;\n",
       "        }    #T_0c35987e_be0c_11ea_a3e3_acbc32b848f1row7_col1 {\n",
       "            width:  20em;\n",
       "            text-align:  center;\n",
       "        }    #T_0c35987e_be0c_11ea_a3e3_acbc32b848f1row8_col0 {\n",
       "            width:  20em;\n",
       "            text-align:  center;\n",
       "        }    #T_0c35987e_be0c_11ea_a3e3_acbc32b848f1row8_col1 {\n",
       "            width:  20em;\n",
       "            text-align:  center;\n",
       "        }    #T_0c35987e_be0c_11ea_a3e3_acbc32b848f1row9_col0 {\n",
       "            width:  20em;\n",
       "            text-align:  center;\n",
       "        }    #T_0c35987e_be0c_11ea_a3e3_acbc32b848f1row9_col1 {\n",
       "            width:  20em;\n",
       "            text-align:  center;\n",
       "        }    #T_0c35987e_be0c_11ea_a3e3_acbc32b848f1row10_col0 {\n",
       "            width:  20em;\n",
       "            text-align:  center;\n",
       "        }    #T_0c35987e_be0c_11ea_a3e3_acbc32b848f1row10_col1 {\n",
       "            width:  20em;\n",
       "            text-align:  center;\n",
       "        }</style><table id=\"T_0c35987e_be0c_11ea_a3e3_acbc32b848f1\" ><caption>Break Probabilities for 10 Missing Cards</caption><thead>    <tr>        <th class=\"col_heading level0 col0\" >Break</th>        <th class=\"col_heading level0 col1\" >Probability</th>    </tr></thead><tbody>\n",
       "                <tr>\n",
       "                                <td id=\"T_0c35987e_be0c_11ea_a3e3_acbc32b848f1row0_col0\" class=\"data row0 col0\" >0–10</td>\n",
       "                        <td id=\"T_0c35987e_be0c_11ea_a3e3_acbc32b848f1row0_col1\" class=\"data row0 col1\" >0.01%</td>\n",
       "            </tr>\n",
       "            <tr>\n",
       "                                <td id=\"T_0c35987e_be0c_11ea_a3e3_acbc32b848f1row1_col0\" class=\"data row1 col0\" >1–9</td>\n",
       "                        <td id=\"T_0c35987e_be0c_11ea_a3e3_acbc32b848f1row1_col1\" class=\"data row1 col1\" >0.17%</td>\n",
       "            </tr>\n",
       "            <tr>\n",
       "                                <td id=\"T_0c35987e_be0c_11ea_a3e3_acbc32b848f1row2_col0\" class=\"data row2 col0\" >2–8</td>\n",
       "                        <td id=\"T_0c35987e_be0c_11ea_a3e3_acbc32b848f1row2_col1\" class=\"data row2 col1\" >1.89%</td>\n",
       "            </tr>\n",
       "            <tr>\n",
       "                                <td id=\"T_0c35987e_be0c_11ea_a3e3_acbc32b848f1row3_col0\" class=\"data row3 col0\" >3–7</td>\n",
       "                        <td id=\"T_0c35987e_be0c_11ea_a3e3_acbc32b848f1row3_col1\" class=\"data row3 col1\" >9.24%</td>\n",
       "            </tr>\n",
       "            <tr>\n",
       "                                <td id=\"T_0c35987e_be0c_11ea_a3e3_acbc32b848f1row4_col0\" class=\"data row4 col0\" >4–6</td>\n",
       "                        <td id=\"T_0c35987e_be0c_11ea_a3e3_acbc32b848f1row4_col1\" class=\"data row4 col1\" >23.10%</td>\n",
       "            </tr>\n",
       "            <tr>\n",
       "                                <td id=\"T_0c35987e_be0c_11ea_a3e3_acbc32b848f1row5_col0\" class=\"data row5 col0\" >5–5</td>\n",
       "                        <td id=\"T_0c35987e_be0c_11ea_a3e3_acbc32b848f1row5_col1\" class=\"data row5 col1\" >31.18%</td>\n",
       "            </tr>\n",
       "            <tr>\n",
       "                                <td id=\"T_0c35987e_be0c_11ea_a3e3_acbc32b848f1row6_col0\" class=\"data row6 col0\" >6–4</td>\n",
       "                        <td id=\"T_0c35987e_be0c_11ea_a3e3_acbc32b848f1row6_col1\" class=\"data row6 col1\" >23.10%</td>\n",
       "            </tr>\n",
       "            <tr>\n",
       "                                <td id=\"T_0c35987e_be0c_11ea_a3e3_acbc32b848f1row7_col0\" class=\"data row7 col0\" >7–3</td>\n",
       "                        <td id=\"T_0c35987e_be0c_11ea_a3e3_acbc32b848f1row7_col1\" class=\"data row7 col1\" >9.24%</td>\n",
       "            </tr>\n",
       "            <tr>\n",
       "                                <td id=\"T_0c35987e_be0c_11ea_a3e3_acbc32b848f1row8_col0\" class=\"data row8 col0\" >8–2</td>\n",
       "                        <td id=\"T_0c35987e_be0c_11ea_a3e3_acbc32b848f1row8_col1\" class=\"data row8 col1\" >1.89%</td>\n",
       "            </tr>\n",
       "            <tr>\n",
       "                                <td id=\"T_0c35987e_be0c_11ea_a3e3_acbc32b848f1row9_col0\" class=\"data row9 col0\" >9–1</td>\n",
       "                        <td id=\"T_0c35987e_be0c_11ea_a3e3_acbc32b848f1row9_col1\" class=\"data row9 col1\" >0.17%</td>\n",
       "            </tr>\n",
       "            <tr>\n",
       "                                <td id=\"T_0c35987e_be0c_11ea_a3e3_acbc32b848f1row10_col0\" class=\"data row10 col0\" >10–0</td>\n",
       "                        <td id=\"T_0c35987e_be0c_11ea_a3e3_acbc32b848f1row10_col1\" class=\"data row10 col1\" >0.01%</td>\n",
       "            </tr>\n",
       "    </tbody></table>"
      ],
      "text/plain": [
       "<pandas.io.formats.style.Styler at 0x7ff99700cd90>"
      ]
     },
     "metadata": {},
     "output_type": "display_data"
    },
    {
     "data": {
      "text/html": [
       "<style  type=\"text/css\" >\n",
       "    #T_0c374ffc_be0c_11ea_a3e3_acbc32b848f1 th {\n",
       "          text-align: center;\n",
       "    }    #T_0c374ffc_be0c_11ea_a3e3_acbc32b848f1 caption {\n",
       "          font-weight: bold;\n",
       "          font-style: italic;\n",
       "          font-size: 110%;\n",
       "          text-align: center;\n",
       "    }    #T_0c374ffc_be0c_11ea_a3e3_acbc32b848f1row0_col0 {\n",
       "            width:  20em;\n",
       "            text-align:  center;\n",
       "        }    #T_0c374ffc_be0c_11ea_a3e3_acbc32b848f1row0_col1 {\n",
       "            width:  20em;\n",
       "            text-align:  center;\n",
       "        }    #T_0c374ffc_be0c_11ea_a3e3_acbc32b848f1row1_col0 {\n",
       "            width:  20em;\n",
       "            text-align:  center;\n",
       "        }    #T_0c374ffc_be0c_11ea_a3e3_acbc32b848f1row1_col1 {\n",
       "            width:  20em;\n",
       "            text-align:  center;\n",
       "        }    #T_0c374ffc_be0c_11ea_a3e3_acbc32b848f1row2_col0 {\n",
       "            width:  20em;\n",
       "            text-align:  center;\n",
       "        }    #T_0c374ffc_be0c_11ea_a3e3_acbc32b848f1row2_col1 {\n",
       "            width:  20em;\n",
       "            text-align:  center;\n",
       "        }    #T_0c374ffc_be0c_11ea_a3e3_acbc32b848f1row3_col0 {\n",
       "            width:  20em;\n",
       "            text-align:  center;\n",
       "        }    #T_0c374ffc_be0c_11ea_a3e3_acbc32b848f1row3_col1 {\n",
       "            width:  20em;\n",
       "            text-align:  center;\n",
       "        }    #T_0c374ffc_be0c_11ea_a3e3_acbc32b848f1row4_col0 {\n",
       "            width:  20em;\n",
       "            text-align:  center;\n",
       "        }    #T_0c374ffc_be0c_11ea_a3e3_acbc32b848f1row4_col1 {\n",
       "            width:  20em;\n",
       "            text-align:  center;\n",
       "        }    #T_0c374ffc_be0c_11ea_a3e3_acbc32b848f1row5_col0 {\n",
       "            width:  20em;\n",
       "            text-align:  center;\n",
       "        }    #T_0c374ffc_be0c_11ea_a3e3_acbc32b848f1row5_col1 {\n",
       "            width:  20em;\n",
       "            text-align:  center;\n",
       "        }    #T_0c374ffc_be0c_11ea_a3e3_acbc32b848f1row6_col0 {\n",
       "            width:  20em;\n",
       "            text-align:  center;\n",
       "        }    #T_0c374ffc_be0c_11ea_a3e3_acbc32b848f1row6_col1 {\n",
       "            width:  20em;\n",
       "            text-align:  center;\n",
       "        }    #T_0c374ffc_be0c_11ea_a3e3_acbc32b848f1row7_col0 {\n",
       "            width:  20em;\n",
       "            text-align:  center;\n",
       "        }    #T_0c374ffc_be0c_11ea_a3e3_acbc32b848f1row7_col1 {\n",
       "            width:  20em;\n",
       "            text-align:  center;\n",
       "        }    #T_0c374ffc_be0c_11ea_a3e3_acbc32b848f1row8_col0 {\n",
       "            width:  20em;\n",
       "            text-align:  center;\n",
       "        }    #T_0c374ffc_be0c_11ea_a3e3_acbc32b848f1row8_col1 {\n",
       "            width:  20em;\n",
       "            text-align:  center;\n",
       "        }    #T_0c374ffc_be0c_11ea_a3e3_acbc32b848f1row9_col0 {\n",
       "            width:  20em;\n",
       "            text-align:  center;\n",
       "        }    #T_0c374ffc_be0c_11ea_a3e3_acbc32b848f1row9_col1 {\n",
       "            width:  20em;\n",
       "            text-align:  center;\n",
       "        }    #T_0c374ffc_be0c_11ea_a3e3_acbc32b848f1row10_col0 {\n",
       "            width:  20em;\n",
       "            text-align:  center;\n",
       "        }    #T_0c374ffc_be0c_11ea_a3e3_acbc32b848f1row10_col1 {\n",
       "            width:  20em;\n",
       "            text-align:  center;\n",
       "        }    #T_0c374ffc_be0c_11ea_a3e3_acbc32b848f1row11_col0 {\n",
       "            width:  20em;\n",
       "            text-align:  center;\n",
       "        }    #T_0c374ffc_be0c_11ea_a3e3_acbc32b848f1row11_col1 {\n",
       "            width:  20em;\n",
       "            text-align:  center;\n",
       "        }</style><table id=\"T_0c374ffc_be0c_11ea_a3e3_acbc32b848f1\" ><caption>Break Probabilities for 11 Missing Cards</caption><thead>    <tr>        <th class=\"col_heading level0 col0\" >Break</th>        <th class=\"col_heading level0 col1\" >Probability</th>    </tr></thead><tbody>\n",
       "                <tr>\n",
       "                                <td id=\"T_0c374ffc_be0c_11ea_a3e3_acbc32b848f1row0_col0\" class=\"data row0 col0\" >0–11</td>\n",
       "                        <td id=\"T_0c374ffc_be0c_11ea_a3e3_acbc32b848f1row0_col1\" class=\"data row0 col1\" >0.00%</td>\n",
       "            </tr>\n",
       "            <tr>\n",
       "                                <td id=\"T_0c374ffc_be0c_11ea_a3e3_acbc32b848f1row1_col0\" class=\"data row1 col0\" >1–10</td>\n",
       "                        <td id=\"T_0c374ffc_be0c_11ea_a3e3_acbc32b848f1row1_col1\" class=\"data row1 col1\" >0.05%</td>\n",
       "            </tr>\n",
       "            <tr>\n",
       "                                <td id=\"T_0c374ffc_be0c_11ea_a3e3_acbc32b848f1row2_col0\" class=\"data row2 col0\" >2–9</td>\n",
       "                        <td id=\"T_0c374ffc_be0c_11ea_a3e3_acbc32b848f1row2_col1\" class=\"data row2 col1\" >0.72%</td>\n",
       "            </tr>\n",
       "            <tr>\n",
       "                                <td id=\"T_0c374ffc_be0c_11ea_a3e3_acbc32b848f1row3_col0\" class=\"data row3 col0\" >3–8</td>\n",
       "                        <td id=\"T_0c374ffc_be0c_11ea_a3e3_acbc32b848f1row3_col1\" class=\"data row3 col1\" >4.76%</td>\n",
       "            </tr>\n",
       "            <tr>\n",
       "                                <td id=\"T_0c374ffc_be0c_11ea_a3e3_acbc32b848f1row4_col0\" class=\"data row4 col0\" >4–7</td>\n",
       "                        <td id=\"T_0c374ffc_be0c_11ea_a3e3_acbc32b848f1row4_col1\" class=\"data row4 col1\" >15.88%</td>\n",
       "            </tr>\n",
       "            <tr>\n",
       "                                <td id=\"T_0c374ffc_be0c_11ea_a3e3_acbc32b848f1row5_col0\" class=\"data row5 col0\" >5–6</td>\n",
       "                        <td id=\"T_0c374ffc_be0c_11ea_a3e3_acbc32b848f1row5_col1\" class=\"data row5 col1\" >28.58%</td>\n",
       "            </tr>\n",
       "            <tr>\n",
       "                                <td id=\"T_0c374ffc_be0c_11ea_a3e3_acbc32b848f1row6_col0\" class=\"data row6 col0\" >6–5</td>\n",
       "                        <td id=\"T_0c374ffc_be0c_11ea_a3e3_acbc32b848f1row6_col1\" class=\"data row6 col1\" >28.58%</td>\n",
       "            </tr>\n",
       "            <tr>\n",
       "                                <td id=\"T_0c374ffc_be0c_11ea_a3e3_acbc32b848f1row7_col0\" class=\"data row7 col0\" >7–4</td>\n",
       "                        <td id=\"T_0c374ffc_be0c_11ea_a3e3_acbc32b848f1row7_col1\" class=\"data row7 col1\" >15.88%</td>\n",
       "            </tr>\n",
       "            <tr>\n",
       "                                <td id=\"T_0c374ffc_be0c_11ea_a3e3_acbc32b848f1row8_col0\" class=\"data row8 col0\" >8–3</td>\n",
       "                        <td id=\"T_0c374ffc_be0c_11ea_a3e3_acbc32b848f1row8_col1\" class=\"data row8 col1\" >4.76%</td>\n",
       "            </tr>\n",
       "            <tr>\n",
       "                                <td id=\"T_0c374ffc_be0c_11ea_a3e3_acbc32b848f1row9_col0\" class=\"data row9 col0\" >9–2</td>\n",
       "                        <td id=\"T_0c374ffc_be0c_11ea_a3e3_acbc32b848f1row9_col1\" class=\"data row9 col1\" >0.72%</td>\n",
       "            </tr>\n",
       "            <tr>\n",
       "                                <td id=\"T_0c374ffc_be0c_11ea_a3e3_acbc32b848f1row10_col0\" class=\"data row10 col0\" >10–1</td>\n",
       "                        <td id=\"T_0c374ffc_be0c_11ea_a3e3_acbc32b848f1row10_col1\" class=\"data row10 col1\" >0.05%</td>\n",
       "            </tr>\n",
       "            <tr>\n",
       "                                <td id=\"T_0c374ffc_be0c_11ea_a3e3_acbc32b848f1row11_col0\" class=\"data row11 col0\" >11–0</td>\n",
       "                        <td id=\"T_0c374ffc_be0c_11ea_a3e3_acbc32b848f1row11_col1\" class=\"data row11 col1\" >0.00%</td>\n",
       "            </tr>\n",
       "    </tbody></table>"
      ],
      "text/plain": [
       "<pandas.io.formats.style.Styler at 0x7ff99a71b820>"
      ]
     },
     "metadata": {},
     "output_type": "display_data"
    },
    {
     "data": {
      "text/html": [
       "<style  type=\"text/css\" >\n",
       "    #T_0c3900c2_be0c_11ea_a3e3_acbc32b848f1 th {\n",
       "          text-align: center;\n",
       "    }    #T_0c3900c2_be0c_11ea_a3e3_acbc32b848f1 caption {\n",
       "          font-weight: bold;\n",
       "          font-style: italic;\n",
       "          font-size: 110%;\n",
       "          text-align: center;\n",
       "    }    #T_0c3900c2_be0c_11ea_a3e3_acbc32b848f1row0_col0 {\n",
       "            width:  20em;\n",
       "            text-align:  center;\n",
       "        }    #T_0c3900c2_be0c_11ea_a3e3_acbc32b848f1row0_col1 {\n",
       "            width:  20em;\n",
       "            text-align:  center;\n",
       "        }    #T_0c3900c2_be0c_11ea_a3e3_acbc32b848f1row1_col0 {\n",
       "            width:  20em;\n",
       "            text-align:  center;\n",
       "        }    #T_0c3900c2_be0c_11ea_a3e3_acbc32b848f1row1_col1 {\n",
       "            width:  20em;\n",
       "            text-align:  center;\n",
       "        }    #T_0c3900c2_be0c_11ea_a3e3_acbc32b848f1row2_col0 {\n",
       "            width:  20em;\n",
       "            text-align:  center;\n",
       "        }    #T_0c3900c2_be0c_11ea_a3e3_acbc32b848f1row2_col1 {\n",
       "            width:  20em;\n",
       "            text-align:  center;\n",
       "        }    #T_0c3900c2_be0c_11ea_a3e3_acbc32b848f1row3_col0 {\n",
       "            width:  20em;\n",
       "            text-align:  center;\n",
       "        }    #T_0c3900c2_be0c_11ea_a3e3_acbc32b848f1row3_col1 {\n",
       "            width:  20em;\n",
       "            text-align:  center;\n",
       "        }    #T_0c3900c2_be0c_11ea_a3e3_acbc32b848f1row4_col0 {\n",
       "            width:  20em;\n",
       "            text-align:  center;\n",
       "        }    #T_0c3900c2_be0c_11ea_a3e3_acbc32b848f1row4_col1 {\n",
       "            width:  20em;\n",
       "            text-align:  center;\n",
       "        }    #T_0c3900c2_be0c_11ea_a3e3_acbc32b848f1row5_col0 {\n",
       "            width:  20em;\n",
       "            text-align:  center;\n",
       "        }    #T_0c3900c2_be0c_11ea_a3e3_acbc32b848f1row5_col1 {\n",
       "            width:  20em;\n",
       "            text-align:  center;\n",
       "        }    #T_0c3900c2_be0c_11ea_a3e3_acbc32b848f1row6_col0 {\n",
       "            width:  20em;\n",
       "            text-align:  center;\n",
       "        }    #T_0c3900c2_be0c_11ea_a3e3_acbc32b848f1row6_col1 {\n",
       "            width:  20em;\n",
       "            text-align:  center;\n",
       "        }    #T_0c3900c2_be0c_11ea_a3e3_acbc32b848f1row7_col0 {\n",
       "            width:  20em;\n",
       "            text-align:  center;\n",
       "        }    #T_0c3900c2_be0c_11ea_a3e3_acbc32b848f1row7_col1 {\n",
       "            width:  20em;\n",
       "            text-align:  center;\n",
       "        }    #T_0c3900c2_be0c_11ea_a3e3_acbc32b848f1row8_col0 {\n",
       "            width:  20em;\n",
       "            text-align:  center;\n",
       "        }    #T_0c3900c2_be0c_11ea_a3e3_acbc32b848f1row8_col1 {\n",
       "            width:  20em;\n",
       "            text-align:  center;\n",
       "        }    #T_0c3900c2_be0c_11ea_a3e3_acbc32b848f1row9_col0 {\n",
       "            width:  20em;\n",
       "            text-align:  center;\n",
       "        }    #T_0c3900c2_be0c_11ea_a3e3_acbc32b848f1row9_col1 {\n",
       "            width:  20em;\n",
       "            text-align:  center;\n",
       "        }    #T_0c3900c2_be0c_11ea_a3e3_acbc32b848f1row10_col0 {\n",
       "            width:  20em;\n",
       "            text-align:  center;\n",
       "        }    #T_0c3900c2_be0c_11ea_a3e3_acbc32b848f1row10_col1 {\n",
       "            width:  20em;\n",
       "            text-align:  center;\n",
       "        }    #T_0c3900c2_be0c_11ea_a3e3_acbc32b848f1row11_col0 {\n",
       "            width:  20em;\n",
       "            text-align:  center;\n",
       "        }    #T_0c3900c2_be0c_11ea_a3e3_acbc32b848f1row11_col1 {\n",
       "            width:  20em;\n",
       "            text-align:  center;\n",
       "        }    #T_0c3900c2_be0c_11ea_a3e3_acbc32b848f1row12_col0 {\n",
       "            width:  20em;\n",
       "            text-align:  center;\n",
       "        }    #T_0c3900c2_be0c_11ea_a3e3_acbc32b848f1row12_col1 {\n",
       "            width:  20em;\n",
       "            text-align:  center;\n",
       "        }</style><table id=\"T_0c3900c2_be0c_11ea_a3e3_acbc32b848f1\" ><caption>Break Probabilities for 12 Missing Cards</caption><thead>    <tr>        <th class=\"col_heading level0 col0\" >Break</th>        <th class=\"col_heading level0 col1\" >Probability</th>    </tr></thead><tbody>\n",
       "                <tr>\n",
       "                                <td id=\"T_0c3900c2_be0c_11ea_a3e3_acbc32b848f1row0_col0\" class=\"data row0 col0\" >0–12</td>\n",
       "                        <td id=\"T_0c3900c2_be0c_11ea_a3e3_acbc32b848f1row0_col1\" class=\"data row0 col1\" >0.00%</td>\n",
       "            </tr>\n",
       "            <tr>\n",
       "                                <td id=\"T_0c3900c2_be0c_11ea_a3e3_acbc32b848f1row1_col0\" class=\"data row1 col0\" >1–11</td>\n",
       "                        <td id=\"T_0c3900c2_be0c_11ea_a3e3_acbc32b848f1row1_col1\" class=\"data row1 col1\" >0.01%</td>\n",
       "            </tr>\n",
       "            <tr>\n",
       "                                <td id=\"T_0c3900c2_be0c_11ea_a3e3_acbc32b848f1row2_col0\" class=\"data row2 col0\" >2–10</td>\n",
       "                        <td id=\"T_0c3900c2_be0c_11ea_a3e3_acbc32b848f1row2_col1\" class=\"data row2 col1\" >0.23%</td>\n",
       "            </tr>\n",
       "            <tr>\n",
       "                                <td id=\"T_0c3900c2_be0c_11ea_a3e3_acbc32b848f1row3_col0\" class=\"data row3 col0\" >3–9</td>\n",
       "                        <td id=\"T_0c3900c2_be0c_11ea_a3e3_acbc32b848f1row3_col1\" class=\"data row3 col1\" >2.12%</td>\n",
       "            </tr>\n",
       "            <tr>\n",
       "                                <td id=\"T_0c3900c2_be0c_11ea_a3e3_acbc32b848f1row4_col0\" class=\"data row4 col0\" >4–8</td>\n",
       "                        <td id=\"T_0c3900c2_be0c_11ea_a3e3_acbc32b848f1row4_col1\" class=\"data row4 col1\" >9.53%</td>\n",
       "            </tr>\n",
       "            <tr>\n",
       "                                <td id=\"T_0c3900c2_be0c_11ea_a3e3_acbc32b848f1row5_col0\" class=\"data row5 col0\" >5–7</td>\n",
       "                        <td id=\"T_0c3900c2_be0c_11ea_a3e3_acbc32b848f1row5_col1\" class=\"data row5 col1\" >22.87%</td>\n",
       "            </tr>\n",
       "            <tr>\n",
       "                                <td id=\"T_0c3900c2_be0c_11ea_a3e3_acbc32b848f1row6_col0\" class=\"data row6 col0\" >6–6</td>\n",
       "                        <td id=\"T_0c3900c2_be0c_11ea_a3e3_acbc32b848f1row6_col1\" class=\"data row6 col1\" >30.49%</td>\n",
       "            </tr>\n",
       "            <tr>\n",
       "                                <td id=\"T_0c3900c2_be0c_11ea_a3e3_acbc32b848f1row7_col0\" class=\"data row7 col0\" >7–5</td>\n",
       "                        <td id=\"T_0c3900c2_be0c_11ea_a3e3_acbc32b848f1row7_col1\" class=\"data row7 col1\" >22.87%</td>\n",
       "            </tr>\n",
       "            <tr>\n",
       "                                <td id=\"T_0c3900c2_be0c_11ea_a3e3_acbc32b848f1row8_col0\" class=\"data row8 col0\" >8–4</td>\n",
       "                        <td id=\"T_0c3900c2_be0c_11ea_a3e3_acbc32b848f1row8_col1\" class=\"data row8 col1\" >9.53%</td>\n",
       "            </tr>\n",
       "            <tr>\n",
       "                                <td id=\"T_0c3900c2_be0c_11ea_a3e3_acbc32b848f1row9_col0\" class=\"data row9 col0\" >9–3</td>\n",
       "                        <td id=\"T_0c3900c2_be0c_11ea_a3e3_acbc32b848f1row9_col1\" class=\"data row9 col1\" >2.12%</td>\n",
       "            </tr>\n",
       "            <tr>\n",
       "                                <td id=\"T_0c3900c2_be0c_11ea_a3e3_acbc32b848f1row10_col0\" class=\"data row10 col0\" >10–2</td>\n",
       "                        <td id=\"T_0c3900c2_be0c_11ea_a3e3_acbc32b848f1row10_col1\" class=\"data row10 col1\" >0.23%</td>\n",
       "            </tr>\n",
       "            <tr>\n",
       "                                <td id=\"T_0c3900c2_be0c_11ea_a3e3_acbc32b848f1row11_col0\" class=\"data row11 col0\" >11–1</td>\n",
       "                        <td id=\"T_0c3900c2_be0c_11ea_a3e3_acbc32b848f1row11_col1\" class=\"data row11 col1\" >0.01%</td>\n",
       "            </tr>\n",
       "            <tr>\n",
       "                                <td id=\"T_0c3900c2_be0c_11ea_a3e3_acbc32b848f1row12_col0\" class=\"data row12 col0\" >12–0</td>\n",
       "                        <td id=\"T_0c3900c2_be0c_11ea_a3e3_acbc32b848f1row12_col1\" class=\"data row12 col1\" >0.00%</td>\n",
       "            </tr>\n",
       "    </tbody></table>"
      ],
      "text/plain": [
       "<pandas.io.formats.style.Styler at 0x7ff99a71b130>"
      ]
     },
     "metadata": {},
     "output_type": "display_data"
    },
    {
     "data": {
      "text/html": [
       "<style  type=\"text/css\" >\n",
       "    #T_0c3b1966_be0c_11ea_a3e3_acbc32b848f1 th {\n",
       "          text-align: center;\n",
       "    }    #T_0c3b1966_be0c_11ea_a3e3_acbc32b848f1 caption {\n",
       "          font-weight: bold;\n",
       "          font-style: italic;\n",
       "          font-size: 110%;\n",
       "          text-align: center;\n",
       "    }    #T_0c3b1966_be0c_11ea_a3e3_acbc32b848f1row0_col0 {\n",
       "            width:  20em;\n",
       "            text-align:  center;\n",
       "        }    #T_0c3b1966_be0c_11ea_a3e3_acbc32b848f1row0_col1 {\n",
       "            width:  20em;\n",
       "            text-align:  center;\n",
       "        }    #T_0c3b1966_be0c_11ea_a3e3_acbc32b848f1row1_col0 {\n",
       "            width:  20em;\n",
       "            text-align:  center;\n",
       "        }    #T_0c3b1966_be0c_11ea_a3e3_acbc32b848f1row1_col1 {\n",
       "            width:  20em;\n",
       "            text-align:  center;\n",
       "        }    #T_0c3b1966_be0c_11ea_a3e3_acbc32b848f1row2_col0 {\n",
       "            width:  20em;\n",
       "            text-align:  center;\n",
       "        }    #T_0c3b1966_be0c_11ea_a3e3_acbc32b848f1row2_col1 {\n",
       "            width:  20em;\n",
       "            text-align:  center;\n",
       "        }    #T_0c3b1966_be0c_11ea_a3e3_acbc32b848f1row3_col0 {\n",
       "            width:  20em;\n",
       "            text-align:  center;\n",
       "        }    #T_0c3b1966_be0c_11ea_a3e3_acbc32b848f1row3_col1 {\n",
       "            width:  20em;\n",
       "            text-align:  center;\n",
       "        }    #T_0c3b1966_be0c_11ea_a3e3_acbc32b848f1row4_col0 {\n",
       "            width:  20em;\n",
       "            text-align:  center;\n",
       "        }    #T_0c3b1966_be0c_11ea_a3e3_acbc32b848f1row4_col1 {\n",
       "            width:  20em;\n",
       "            text-align:  center;\n",
       "        }    #T_0c3b1966_be0c_11ea_a3e3_acbc32b848f1row5_col0 {\n",
       "            width:  20em;\n",
       "            text-align:  center;\n",
       "        }    #T_0c3b1966_be0c_11ea_a3e3_acbc32b848f1row5_col1 {\n",
       "            width:  20em;\n",
       "            text-align:  center;\n",
       "        }    #T_0c3b1966_be0c_11ea_a3e3_acbc32b848f1row6_col0 {\n",
       "            width:  20em;\n",
       "            text-align:  center;\n",
       "        }    #T_0c3b1966_be0c_11ea_a3e3_acbc32b848f1row6_col1 {\n",
       "            width:  20em;\n",
       "            text-align:  center;\n",
       "        }    #T_0c3b1966_be0c_11ea_a3e3_acbc32b848f1row7_col0 {\n",
       "            width:  20em;\n",
       "            text-align:  center;\n",
       "        }    #T_0c3b1966_be0c_11ea_a3e3_acbc32b848f1row7_col1 {\n",
       "            width:  20em;\n",
       "            text-align:  center;\n",
       "        }    #T_0c3b1966_be0c_11ea_a3e3_acbc32b848f1row8_col0 {\n",
       "            width:  20em;\n",
       "            text-align:  center;\n",
       "        }    #T_0c3b1966_be0c_11ea_a3e3_acbc32b848f1row8_col1 {\n",
       "            width:  20em;\n",
       "            text-align:  center;\n",
       "        }    #T_0c3b1966_be0c_11ea_a3e3_acbc32b848f1row9_col0 {\n",
       "            width:  20em;\n",
       "            text-align:  center;\n",
       "        }    #T_0c3b1966_be0c_11ea_a3e3_acbc32b848f1row9_col1 {\n",
       "            width:  20em;\n",
       "            text-align:  center;\n",
       "        }    #T_0c3b1966_be0c_11ea_a3e3_acbc32b848f1row10_col0 {\n",
       "            width:  20em;\n",
       "            text-align:  center;\n",
       "        }    #T_0c3b1966_be0c_11ea_a3e3_acbc32b848f1row10_col1 {\n",
       "            width:  20em;\n",
       "            text-align:  center;\n",
       "        }    #T_0c3b1966_be0c_11ea_a3e3_acbc32b848f1row11_col0 {\n",
       "            width:  20em;\n",
       "            text-align:  center;\n",
       "        }    #T_0c3b1966_be0c_11ea_a3e3_acbc32b848f1row11_col1 {\n",
       "            width:  20em;\n",
       "            text-align:  center;\n",
       "        }    #T_0c3b1966_be0c_11ea_a3e3_acbc32b848f1row12_col0 {\n",
       "            width:  20em;\n",
       "            text-align:  center;\n",
       "        }    #T_0c3b1966_be0c_11ea_a3e3_acbc32b848f1row12_col1 {\n",
       "            width:  20em;\n",
       "            text-align:  center;\n",
       "        }    #T_0c3b1966_be0c_11ea_a3e3_acbc32b848f1row13_col0 {\n",
       "            width:  20em;\n",
       "            text-align:  center;\n",
       "        }    #T_0c3b1966_be0c_11ea_a3e3_acbc32b848f1row13_col1 {\n",
       "            width:  20em;\n",
       "            text-align:  center;\n",
       "        }</style><table id=\"T_0c3b1966_be0c_11ea_a3e3_acbc32b848f1\" ><caption>Break Probabilities for 13 Missing Cards</caption><thead>    <tr>        <th class=\"col_heading level0 col0\" >Break</th>        <th class=\"col_heading level0 col1\" >Probability</th>    </tr></thead><tbody>\n",
       "                <tr>\n",
       "                                <td id=\"T_0c3b1966_be0c_11ea_a3e3_acbc32b848f1row0_col0\" class=\"data row0 col0\" >0–13</td>\n",
       "                        <td id=\"T_0c3b1966_be0c_11ea_a3e3_acbc32b848f1row0_col1\" class=\"data row0 col1\" >0.00%</td>\n",
       "            </tr>\n",
       "            <tr>\n",
       "                                <td id=\"T_0c3b1966_be0c_11ea_a3e3_acbc32b848f1row1_col0\" class=\"data row1 col0\" >1–12</td>\n",
       "                        <td id=\"T_0c3b1966_be0c_11ea_a3e3_acbc32b848f1row1_col1\" class=\"data row1 col1\" >0.00%</td>\n",
       "            </tr>\n",
       "            <tr>\n",
       "                                <td id=\"T_0c3b1966_be0c_11ea_a3e3_acbc32b848f1row2_col0\" class=\"data row2 col0\" >2–11</td>\n",
       "                        <td id=\"T_0c3b1966_be0c_11ea_a3e3_acbc32b848f1row2_col1\" class=\"data row2 col1\" >0.06%</td>\n",
       "            </tr>\n",
       "            <tr>\n",
       "                                <td id=\"T_0c3b1966_be0c_11ea_a3e3_acbc32b848f1row3_col0\" class=\"data row3 col0\" >3–10</td>\n",
       "                        <td id=\"T_0c3b1966_be0c_11ea_a3e3_acbc32b848f1row3_col1\" class=\"data row3 col1\" >0.79%</td>\n",
       "            </tr>\n",
       "            <tr>\n",
       "                                <td id=\"T_0c3b1966_be0c_11ea_a3e3_acbc32b848f1row4_col0\" class=\"data row4 col0\" >4–9</td>\n",
       "                        <td id=\"T_0c3b1966_be0c_11ea_a3e3_acbc32b848f1row4_col1\" class=\"data row4 col1\" >4.92%</td>\n",
       "            </tr>\n",
       "            <tr>\n",
       "                                <td id=\"T_0c3b1966_be0c_11ea_a3e3_acbc32b848f1row5_col0\" class=\"data row5 col0\" >5–8</td>\n",
       "                        <td id=\"T_0c3b1966_be0c_11ea_a3e3_acbc32b848f1row5_col1\" class=\"data row5 col1\" >15.93%</td>\n",
       "            </tr>\n",
       "            <tr>\n",
       "                                <td id=\"T_0c3b1966_be0c_11ea_a3e3_acbc32b848f1row6_col0\" class=\"data row6 col0\" >6–7</td>\n",
       "                        <td id=\"T_0c3b1966_be0c_11ea_a3e3_acbc32b848f1row6_col1\" class=\"data row6 col1\" >28.31%</td>\n",
       "            </tr>\n",
       "            <tr>\n",
       "                                <td id=\"T_0c3b1966_be0c_11ea_a3e3_acbc32b848f1row7_col0\" class=\"data row7 col0\" >7–6</td>\n",
       "                        <td id=\"T_0c3b1966_be0c_11ea_a3e3_acbc32b848f1row7_col1\" class=\"data row7 col1\" >28.31%</td>\n",
       "            </tr>\n",
       "            <tr>\n",
       "                                <td id=\"T_0c3b1966_be0c_11ea_a3e3_acbc32b848f1row8_col0\" class=\"data row8 col0\" >8–5</td>\n",
       "                        <td id=\"T_0c3b1966_be0c_11ea_a3e3_acbc32b848f1row8_col1\" class=\"data row8 col1\" >15.93%</td>\n",
       "            </tr>\n",
       "            <tr>\n",
       "                                <td id=\"T_0c3b1966_be0c_11ea_a3e3_acbc32b848f1row9_col0\" class=\"data row9 col0\" >9–4</td>\n",
       "                        <td id=\"T_0c3b1966_be0c_11ea_a3e3_acbc32b848f1row9_col1\" class=\"data row9 col1\" >4.92%</td>\n",
       "            </tr>\n",
       "            <tr>\n",
       "                                <td id=\"T_0c3b1966_be0c_11ea_a3e3_acbc32b848f1row10_col0\" class=\"data row10 col0\" >10–3</td>\n",
       "                        <td id=\"T_0c3b1966_be0c_11ea_a3e3_acbc32b848f1row10_col1\" class=\"data row10 col1\" >0.79%</td>\n",
       "            </tr>\n",
       "            <tr>\n",
       "                                <td id=\"T_0c3b1966_be0c_11ea_a3e3_acbc32b848f1row11_col0\" class=\"data row11 col0\" >11–2</td>\n",
       "                        <td id=\"T_0c3b1966_be0c_11ea_a3e3_acbc32b848f1row11_col1\" class=\"data row11 col1\" >0.06%</td>\n",
       "            </tr>\n",
       "            <tr>\n",
       "                                <td id=\"T_0c3b1966_be0c_11ea_a3e3_acbc32b848f1row12_col0\" class=\"data row12 col0\" >12–1</td>\n",
       "                        <td id=\"T_0c3b1966_be0c_11ea_a3e3_acbc32b848f1row12_col1\" class=\"data row12 col1\" >0.00%</td>\n",
       "            </tr>\n",
       "            <tr>\n",
       "                                <td id=\"T_0c3b1966_be0c_11ea_a3e3_acbc32b848f1row13_col0\" class=\"data row13 col0\" >13–0</td>\n",
       "                        <td id=\"T_0c3b1966_be0c_11ea_a3e3_acbc32b848f1row13_col1\" class=\"data row13 col1\" >0.00%</td>\n",
       "            </tr>\n",
       "    </tbody></table>"
      ],
      "text/plain": [
       "<pandas.io.formats.style.Styler at 0x7ff99a721ac0>"
      ]
     },
     "metadata": {},
     "output_type": "display_data"
    }
   ],
   "source": [
    "for missing in range(1,14): display(table_of_breaks_missing(missing))\n",
    "    "
   ]
  }
 ],
 "metadata": {
  "kernelspec": {
   "display_name": "Python 3.8.3 64-bit",
   "language": "python",
   "name": "python38364bit68c99916b464482ea35b5936714fd939"
  },
  "language_info": {
   "codemirror_mode": {
    "name": "ipython",
    "version": 3
   },
   "file_extension": ".py",
   "mimetype": "text/x-python",
   "name": "python",
   "nbconvert_exporter": "python",
   "pygments_lexer": "ipython3",
   "version": "3.8.3"
  }
 },
 "nbformat": 4,
 "nbformat_minor": 4
}
